{
 "cells": [
  {
   "cell_type": "code",
   "execution_count": 1,
   "metadata": {
    "collapsed": true
   },
   "outputs": [],
   "source": [
    "push!(LOAD_PATH, \"C:\\\\Users\\\\Rachel\\\\Documents\\\\Research\\\\RxnDfnModules.jl\\\\\")\n",
    "using RxnDfn"
   ]
  },
  {
   "cell_type": "code",
   "execution_count": 2,
   "metadata": {},
   "outputs": [
    {
     "name": "stdout",
     "output_type": "stream",
     "text": [
      "20 points in x-discretization. dx = 0.052632\n",
      "362 points in t-discretization. dt = 0.002770\n",
      "20 points in x-discretization. dx = 0.052632\n",
      "362 points in t-discretization. dt = 0.002770\n",
      "\u001b[37mRxnDfn Exact Solution Tests: \u001b[39m\u001b[1m\u001b[91mTest Failed\n",
      "\u001b[39m\u001b[22m  Expression: isapprox(u, u_e, rtol=0.001)\n",
      "Stacktrace:\n",
      " [1] \u001b[1mmacro expansion\u001b[22m\u001b[22m at \u001b[1m.\\In[2]:33\u001b[22m\u001b[22m [inlined]\n",
      " [2] \u001b[1mmacro expansion\u001b[22m\u001b[22m at \u001b[1m.\\test.jl:860\u001b[22m\u001b[22m [inlined]\n",
      " [3] \u001b[1manonymous\u001b[22m\u001b[22m at \u001b[1m.\\<missing>:?\u001b[22m\u001b[22m\n",
      "20 points in x-discretization. dx = 0.052632\n",
      "362 points in t-discretization. dt = 0.002770\n",
      "\u001b[37mRxnDfn Exact Solution Tests: \u001b[39m\u001b[1m\u001b[91mTest Failed\n",
      "\u001b[39m\u001b[22m  Expression: isapprox(u, u_e, rtol=0.001)\n",
      "Stacktrace:\n",
      " [1] \u001b[1mmacro expansion\u001b[22m\u001b[22m at \u001b[1m.\\In[2]:48\u001b[22m\u001b[22m [inlined]\n",
      " [2] \u001b[1mmacro expansion\u001b[22m\u001b[22m at \u001b[1m.\\test.jl:860\u001b[22m\u001b[22m [inlined]\n",
      " [3] \u001b[1manonymous\u001b[22m\u001b[22m at \u001b[1m.\\<missing>:?\u001b[22m\u001b[22m\n",
      "\u001b[1m\u001b[37mTest Summary:               | \u001b[39m\u001b[22m\u001b[1m\u001b[32mPass  \u001b[39m\u001b[22m\u001b[1m\u001b[91mFail  \u001b[39m\u001b[22m\u001b[1m\u001b[36mTotal\u001b[39m\u001b[22m\n",
      "RxnDfn Exact Solution Tests | \u001b[32m   1  \u001b[39m\u001b[91m   2  \u001b[39m\u001b[36m    3\u001b[39m\n"
     ]
    },
    {
     "ename": "LoadError",
     "evalue": "\u001b[91mSome tests did not pass: 1 passed, 2 failed, 0 errored, 0 broken.\u001b[39m",
     "output_type": "error",
     "traceback": [
      "\u001b[91mSome tests did not pass: 1 passed, 2 failed, 0 errored, 0 broken.\u001b[39m",
      "",
      "Stacktrace:",
      " [1] \u001b[1mfinish\u001b[22m\u001b[22m\u001b[1m(\u001b[22m\u001b[22m::Base.Test.DefaultTestSet\u001b[1m)\u001b[22m\u001b[22m at \u001b[1m.\\test.jl:668\u001b[22m\u001b[22m",
      " [2] \u001b[1mmacro expansion\u001b[22m\u001b[22m at \u001b[1m.\\test.jl:867\u001b[22m\u001b[22m [inlined]",
      " [3] \u001b[1manonymous\u001b[22m\u001b[22m at \u001b[1m.\\<missing>:?\u001b[22m\u001b[22m",
      " [4] \u001b[1minclude_string\u001b[22m\u001b[22m\u001b[1m(\u001b[22m\u001b[22m::String, ::String\u001b[1m)\u001b[22m\u001b[22m at \u001b[1m.\\loading.jl:522\u001b[22m\u001b[22m"
     ]
    }
   ],
   "source": [
    "using Base.Test\n",
    "@testset \"RxnDfn Exact Solution Tests\" begin \n",
    "    #Dirichlet BC Test - Passes\n",
    "    function exact_u(x::Float64, t::Float64, D::Float64) \n",
    "        return 100 * exp(-t) * sin(π * x)\n",
    "    end\n",
    "    D = 1.0\n",
    "    f(x::Float64, t::Float64, u::Float64) = 100 * (D * π^2 - 1.0) * (e ^ (-t)  * sin(π * x))\n",
    "    u₀(x::Float64) = 100 * sin(π * x)\n",
    "    bc = Dirichlet(0.0, 0.0)\n",
    "    Nₓ = 20\n",
    "    st = SpaceTime(1.0, 1.0)\n",
    "    sample_time = 0.1\n",
    "    t, x, u = solve_rxn_diffn_eqn(f, u₀, bc, D, Nₓ, st, sample_time)\n",
    "    u_e = create_exact_u(t, x, exact_u, D)\n",
    "    @test isapprox(u, u_e, rtol=.001)\n",
    "    \n",
    "    #Neumann BC Test - Fails\n",
    "    # Reaction term\n",
    "    g(x::Float64) = x^3\n",
    "    function exact_u(x::Float64, t::Float64, D::Float64) \n",
    "        return e^(-π^2 * t) * cos(π * x) + g(x)\n",
    "    end\n",
    "    D = 1.0\n",
    "    f(x::Float64, t::Float64, u::Float64) = -6 * x\n",
    "    u₀(x::Float64) = cos(π * x) + g(x)\n",
    "    bc = Neumann(0.0, 3.0)\n",
    "    Nₓ = 20\n",
    "    st = SpaceTime(1.0, 1.0)\n",
    "    sample_time = 0.1\n",
    "    t, x, u = solve_rxn_diffn_eqn(f, u₀, bc, D, Nₓ, st, sample_time)\n",
    "    u_e = create_exact_u(t, x, exact_u, D)\n",
    "    @test isapprox(u, u_e, rtol=.001)\n",
    "    \n",
    "    #Periodic BC Test - Fails\n",
    "    function exact_u(x::Float64, t::Float64, D::Float64)\n",
    "        return exp(-(2 * π)^2 * D * t) * (4 * sin(2 * π * x) + 6 * cos(2 * π * x)) + x * (x - 1)\n",
    "    end\n",
    "    D = 0.01\n",
    "    f(x::Float64, t::Float64, u::Float64) = -2 * D\n",
    "    u₀(x::Float64) = 4 * sin(2 * π * x) + 6 * cos(2 * π * x) + x * (x - 1)\n",
    "    bc = Periodic()\n",
    "    Nₓ = 20\n",
    "    st = SpaceTime(1.0, 1.0)\n",
    "    sample_time = 0.1 \n",
    "    t, x, u = solve_rxn_diffn_eqn(f, u₀, bc, D, Nₓ, st, sample_time)\n",
    "    u_e = create_exact_u(t, x, exact_u, D)\n",
    "    @test isapprox(u, u_e, rtol=.001)\n",
    "    \n",
    "end;"
   ]
  },
  {
   "cell_type": "code",
   "execution_count": null,
   "metadata": {
    "collapsed": true
   },
   "outputs": [],
   "source": []
  }
 ],
 "metadata": {
  "kernelspec": {
   "display_name": "Julia 0.6.2",
   "language": "julia",
   "name": "julia-0.6"
  },
  "language_info": {
   "file_extension": ".jl",
   "mimetype": "application/julia",
   "name": "julia",
   "version": "0.6.2"
  }
 },
 "nbformat": 4,
 "nbformat_minor": 2
}
