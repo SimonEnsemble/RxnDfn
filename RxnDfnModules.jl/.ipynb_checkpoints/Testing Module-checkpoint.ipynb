{
 "cells": [
  {
   "cell_type": "code",
   "execution_count": 1,
   "metadata": {
    "collapsed": true
   },
   "outputs": [],
   "source": [
    "push!(LOAD_PATH, \"C:\\\\Users\\\\Rachel\\\\Documents\\\\Research\\\\RxnDfnModules.jl\\\\\")\n",
    "using RxnDfn"
   ]
  },
  {
   "cell_type": "code",
   "execution_count": 2,
   "metadata": {
    "scrolled": false
   },
   "outputs": [
    {
     "name": "stdout",
     "output_type": "stream",
     "text": [
      "100 points in x-discretization. dx = 0.010101\n",
      "9801 points in t-discretization. dt = 0.000102\n"
     ]
    },
    {
     "name": "stderr",
     "output_type": "stream",
     "text": [
      "\u001b[32mComputing...100%|███████████████████████████████████████| Time: 0:00:07\u001b[39m\n"
     ]
    },
    {
     "name": "stdout",
     "output_type": "stream",
     "text": [
      "100 points in x-discretization. dx = 0.010101\n",
      "9801 points in t-discretization. dt = 0.000102\n"
     ]
    },
    {
     "name": "stderr",
     "output_type": "stream",
     "text": [
      "\u001b[32mComputing...100%|███████████████████████████████████████| Time: 0:00:07\u001b[39m\n"
     ]
    },
    {
     "name": "stdout",
     "output_type": "stream",
     "text": [
      "\u001b[1m\u001b[37mTest Summary:               | \u001b[39m\u001b[22m\u001b[1m\u001b[32mPass  \u001b[39m\u001b[22m\u001b[1m\u001b[36mTotal\u001b[39m\u001b[22m\n",
      "RxnDfn Exact Solution Tests | \u001b[32m   2  \u001b[39m\u001b[36m    2\u001b[39m\n"
     ]
    }
   ],
   "source": [
    "using Base.Test\n",
    "@testset \"RxnDfn Exact Solution Tests\" begin \n",
    "    @testset \"Dirichlet BC Test\" begin\n",
    "        function exact_u(x::Float64, t::Float64, D::Float64) \n",
    "            return 100 * exp(-t) * sin(π * x)\n",
    "        end\n",
    "        D = 1.0\n",
    "        f(x::Float64, t::Float64, u::Float64) = 100 * (D * π^2 - 1.0) * (e ^ (-t)  * sin(π * x))\n",
    "        u₀(x::Float64) = 100 * sin(π * x)\n",
    "        bc = Dirichlet(0.0, 0.0)\n",
    "        Nₓ = 100\n",
    "        st = SpaceTime(1.0, 1.0)\n",
    "        sample_time = 0.1\n",
    "        t, x, u = solve_rxn_diffn_eqn(f, u₀, bc, D, Nₓ, st, sample_time)\n",
    "        u_e = create_exact_u(t, x, exact_u, D)\n",
    "        @test isapprox(u, u_e, rtol=.001)\n",
    "    end;\n",
    "    \n",
    "    @testset \"Neumann BC Test\" begin\n",
    "        # Reaction term\n",
    "        g(x::Float64) = x^3\n",
    "        function exact_u(x::Float64, t::Float64, D::Float64) \n",
    "            return e^(-π^2 * t) * cos(π * x) + g(x)\n",
    "        end\n",
    "        D = 1.0\n",
    "        f(x::Float64, t::Float64, u::Float64) = -6 * x\n",
    "        u₀(x::Float64) = cos(π * x) + g(x)\n",
    "        bc = Neumann(0.0, 3.0)\n",
    "        Nₓ = 100\n",
    "        st = SpaceTime(1.0, 1.0)\n",
    "        sample_time = 0.1\n",
    "        t, x, u = solve_rxn_diffn_eqn(f, u₀, bc, D, Nₓ, st, sample_time)\n",
    "        u_e = create_exact_u(t, x, exact_u, D)\n",
    "        @test isapprox(u, u_e, rtol=.001)\n",
    "    end;\n",
    "#=    \n",
    "    @testset \"Periodic BC Test\" begin\n",
    "        function exact_u(x::Float64, t::Float64, D::Float64)\n",
    "            return exp(-(2 * π)^2 * D * t) * (4 * sin(2 * π * x) + 6 * cos(2 * π * x)) + x * (x - 1)\n",
    "        end\n",
    "        D = 0.01\n",
    "        f(x::Float64, t::Float64, u::Float64) = -2 * D\n",
    "        u₀(x::Float64) = 4 * sin(2 * π * x) + 6 * cos(2 * π * x) + x * (x - 1)\n",
    "        bc = Periodic()\n",
    "        Nₓ = 100\n",
    "        st = SpaceTime(1.0, 1.0)\n",
    "        sample_time = 0.1 \n",
    "        t, x, u = solve_rxn_diffn_eqn(f, u₀, bc, D, Nₓ, st, sample_time)\n",
    "        u_e = create_exact_u(t, x, exact_u, D)\n",
    "        @test isapprox(u, u_e, rtol=.001)\n",
    "    end;\n",
    "=#\n",
    "end;"
   ]
  },
  {
   "cell_type": "code",
   "execution_count": null,
   "metadata": {
    "collapsed": true
   },
   "outputs": [],
   "source": [
    "D = 1.0\n",
    "f(x::Float64, t::Float64, u::Float64) = 1 * u * (1 - u / 250) - .1 * h(x) * (u / (b + u))\n",
    "u₀(x::Float64) = \n",
    "bc = Neumann(0.0, 0.0)\n",
    "Nₓ = 100\n",
    "st = SpaceTime(1.0, 1.0)\n",
    "sample_time = 0.1\n",
    "t, x, u = solve_rxn_diffn_eqn(f, u₀, bc, D, Nₓ, st, sample_time)"
   ]
  }
 ],
 "metadata": {
  "kernelspec": {
   "display_name": "Julia 0.6.2",
   "language": "julia",
   "name": "julia-0.6"
  },
  "language_info": {
   "file_extension": ".jl",
   "mimetype": "application/julia",
   "name": "julia",
   "version": "0.6.2"
  }
 },
 "nbformat": 4,
 "nbformat_minor": 2
}
