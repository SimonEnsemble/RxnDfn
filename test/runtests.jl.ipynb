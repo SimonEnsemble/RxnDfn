{
 "cells": [
  {
   "cell_type": "code",
   "execution_count": 1,
   "metadata": {
    "collapsed": true
   },
   "outputs": [],
   "source": [
    "push!(LOAD_PATH, \"C:\\\\Users\\\\Rachel\\\\Documents\\\\Research\\\\src\\\\\")\n",
    "using RxnDfn"
   ]
  },
  {
   "cell_type": "code",
   "execution_count": 2,
   "metadata": {},
   "outputs": [
    {
     "name": "stdout",
     "output_type": "stream",
     "text": [
      "100 points in x-discretization. dx = 0.010101\n",
      "981 points in t-discretization. dt = 0.000102\n"
     ]
    },
    {
     "name": "stderr",
     "output_type": "stream",
     "text": [
      "\u001b[32mComputing...100%|███████████████████████████████████████| Time: 0:00:01\u001b[39m\n"
     ]
    },
    {
     "name": "stdout",
     "output_type": "stream",
     "text": [
      "100 points in x-discretization. dx = 0.010101\n",
      "9801 points in t-discretization. dt = 0.000102\n"
     ]
    },
    {
     "name": "stderr",
     "output_type": "stream",
     "text": [
      "\u001b[32mComputing... 92%|████████████████████████████████████   |  ETA: 0:00:01\u001b[39m"
     ]
    },
    {
     "name": "stdout",
     "output_type": "stream",
     "text": [
      "100 points in x-discretization. dx = 0.010101\n",
      "9801 points in t-discretization. dt = 0.000102\n"
     ]
    },
    {
     "name": "stderr",
     "output_type": "stream",
     "text": [
      "\u001b[32mComputing...100%|███████████████████████████████████████| Time: 0:00:10\u001b[39m\n",
      "\u001b[32mComputing... 89%|███████████████████████████████████    |  ETA: 0:00:01\u001b[39m"
     ]
    },
    {
     "name": "stdout",
     "output_type": "stream",
     "text": [
      "100 points in x-discretization. dx = 0.010101\n",
      "9801 points in t-discretization. dt = 0.000102\n"
     ]
    },
    {
     "name": "stderr",
     "output_type": "stream",
     "text": [
      "\u001b[32mComputing...100%|███████████████████████████████████████| Time: 0:00:09\u001b[39m\n",
      "\u001b[32mComputing...100%|███████████████████████████████████████| Time: 0:00:09\u001b[39m\n"
     ]
    },
    {
     "name": "stdout",
     "output_type": "stream",
     "text": [
      "100 points in x-discretization. dx = 0.010101\n",
      "981 points in t-discretization. dt = 0.000102\n",
      "\u001b[1m\u001b[37mTest Summary:               | \u001b[39m\u001b[22m\u001b[1m\u001b[32mPass  \u001b[39m\u001b[22m\u001b[1m\u001b[36mTotal\u001b[39m\u001b[22m\n",
      "RxnDfn Exact Solution Tests | \u001b[32m   5  \u001b[39m\u001b[36m    5\u001b[39m\n"
     ]
    }
   ],
   "source": [
    "using Base.Test\n",
    "@testset \"RxnDfn Exact Solution Tests\" begin \n",
    "     @testset \"Periodic BC Test\" begin\n",
    "        function exact_u(x::Float64, t::Float64, D::Float64)\n",
    "            return exp(-(2 * π)^2 * D * t) * (4 * sin(2 * π * x) + 6 * cos(2 * π * x)) + x * (x - 1)\n",
    "        end\n",
    "        D = 0.01\n",
    "        f(x::Float64, t::Float64, u::Float64) = -2 * D\n",
    "        u₀(x::Float64) = 4 * sin(2 * π * x) + 6 * cos(2 * π * x) + x * (x - 1)\n",
    "        bc = Periodic()\n",
    "        Nₓ = 100\n",
    "        st = SpaceTime(1.0, 0.1)\n",
    "        sample_time = 0.01 \n",
    "        t, x, u = solve_rxn_diffn_eqn(bc, f, u₀, D, Nₓ, st, sample_time)\n",
    "        u_e = create_exact_u(t, x, exact_u, D)\n",
    "        @test isapprox(u, u_e, rtol=.001)\n",
    "    end;\n",
    "    \n",
    "    @testset \"Dirichlet BC Test\" begin\n",
    "        function exact_u(x::Float64, t::Float64, D::Float64) \n",
    "            return 100 * exp(-t) * sin(π * x)\n",
    "        end\n",
    "        D = 1.0\n",
    "        f(x::Float64, t::Float64, u::Float64) = 100 * (D * π^2 - 1.0) * (e ^ (-t)  * sin(π * x))\n",
    "        u₀(x::Float64) = 100 * sin(π * x)\n",
    "        left_bc = Dirichlet(0.0)\n",
    "        right_bc = Dirichlet(0.0)\n",
    "        Nₓ = 100\n",
    "        st = SpaceTime(1.0, 1.0)\n",
    "        sample_time = 0.1\n",
    "        t, x, u = solve_rxn_diffn_eqn(left_bc, right_bc, f, u₀, D, Nₓ, st, sample_time)\n",
    "        u_e = create_exact_u(t, x, exact_u, D)\n",
    "        @test isapprox(u, u_e, rtol=.001)\n",
    "    end;\n",
    "    \n",
    "    @testset \"Neumann BC Test\" begin\n",
    "        # Reaction term\n",
    "        g(x::Float64) = x^3\n",
    "        function exact_u(x::Float64, t::Float64, D::Float64) \n",
    "            return e^(-π^2 * t) * cos(π * x) + g(x)\n",
    "        end\n",
    "        D = 1.0\n",
    "        f(x::Float64, t::Float64, u::Float64) = -6 * x\n",
    "        u₀(x::Float64) = cos(π * x) + g(x)\n",
    "        left_bc = Neumann(0.0)\n",
    "        right_bc = Neumann(3.0)\n",
    "        Nₓ = 100\n",
    "        st = SpaceTime(1.0, 1.0)\n",
    "        sample_time = 0.1\n",
    "        t, x, u = solve_rxn_diffn_eqn(left_bc, right_bc, f, u₀, D, Nₓ, st, sample_time)\n",
    "        u_e = create_exact_u(t, x, exact_u, D)\n",
    "        @test isapprox(u, u_e, rtol=.001)\n",
    "    end;\n",
    "#=    #TODO ConvectiveHeat BCs \n",
    "    @testset \"ConvectiveHeat BC Test\" begin\n",
    "        function exact_u(x::Float64, t::Float64, D::Float64) \n",
    "            return \n",
    "        end\n",
    "        D = 1.0\n",
    "        f(x::Float64, t::Float64, u::Float64) = \n",
    "        u₀(x::Float64) = \n",
    "        left_bc = ConvectiveHeat( , )\n",
    "        right_bc = ConvectiveHeat( , )\n",
    "        Nₓ = 100\n",
    "        st = SpaceTime(1.0, 1.0)\n",
    "        sample_time = 0.1\n",
    "        t, x, u = solve_rxn_diffn_eqn(left_bc, right_bc, f, u₀, D, Nₓ, st, sample_time)\n",
    "        u_e = create_exact_u(t, x, exact_u, D)\n",
    "        @test isapprox(u, u_e, rtol=.001)    \n",
    "    end;\n",
    " =#   # TODO Fix Dirichlet-Neumann BC\n",
    "    @testset \"Dirichlet-Neumann BC Test\" begin\n",
    "        function exact_u(x::Float64, t::Float64, D::Float64) \n",
    "            return e^(-(π^2 * t) / 4) * sin((π * x) / 2)\n",
    "        end\n",
    "        D = 1.0\n",
    "        f(x::Float64, t::Float64, u::Float64) = 0.0\n",
    "        u₀(x::Float64) = sin((π * x) / 2)\n",
    "        left_bc = Dirichlet(0.0)\n",
    "        right_bc = Neumann(0.0)\n",
    "        Nₓ = 100\n",
    "        st = SpaceTime(1.0, 1.0)\n",
    "        sample_time = 0.1\n",
    "        t, x, u = solve_rxn_diffn_eqn(left_bc, right_bc, f, u₀, D, Nₓ, st, sample_time)\n",
    "        u_e = create_exact_u(t, x, exact_u, D)\n",
    "        @test isapprox(u, u_e, rtol=.001)\n",
    "    end;\n",
    "    \n",
    "    @testset \"Dirichlet-ConvectiveHeat BC Test\" begin\n",
    "        function exact_u(x::Float64, t::Float64, D::Float64) \n",
    "            return e^(-λ * D * t) * sin(sqrt(λ) * x)\n",
    "        end\n",
    "        D = 1.0\n",
    "        left_bc = Dirichlet(0.0)\n",
    "        right_bc = ConvectiveHeat(0.0, 2.0)\n",
    "        g(y) = right_bc.K̄ * tan(y) - y\n",
    "        using Roots\n",
    "        y = find_zero(g, 4.9)\n",
    "        λ = y^2\n",
    "        f(x::Float64, t::Float64, u::Float64) = 0.0\n",
    "        u₀(x::Float64) = sin(sqrt(λ) * x)\n",
    "        Nₓ = 100\n",
    "        st = SpaceTime(1.0, 0.1)\n",
    "        sample_time = 0.01\n",
    "        t, x, u = solve_rxn_diffn_eqn(left_bc, right_bc, f, u₀, D, Nₓ, st, sample_time)\n",
    "        u_e = create_exact_u(t, x, exact_u, D)\n",
    "        @test isapprox(u, u_e, rtol=.001)\n",
    "    end;\n",
    "#=       TODO Neumann-ConvectiveHeat BC\n",
    "    @testset \"Neumann-ConvectiveHeat BC Test\" begin\n",
    "        function exact_u(x::Float64, t::Float64, D::Float64) \n",
    "            return \n",
    "        end\n",
    "        D = 1.0\n",
    "        f(x::Float64, t::Float64, u::Float64) = \n",
    "        u₀(x::Float64) = \n",
    "        left_bc = Neumann()\n",
    "        right_bc = ConvectiveHeat( , )\n",
    "        Nₓ = 100\n",
    "        st = SpaceTime(1.0, 1.0)\n",
    "        sample_time = 0.1\n",
    "        t, x, u = solve_rxn_diffn_eqn(left_bc, right_bc, f, u₀, D, Nₓ, st, sample_time)\n",
    "        u_e = create_exact_u(t, x, exact_u, D)\n",
    "        @test isapprox(u, u_e, rtol=.001)\n",
    "    end;\n",
    "=#  \n",
    "end;"
   ]
  },
  {
   "cell_type": "code",
   "execution_count": null,
   "metadata": {
    "collapsed": true
   },
   "outputs": [],
   "source": [
    "\n",
    "\n",
    "  D = 1.0\n",
    "  f(x::Float64, t::Float64, u::Float64) = -6 * x\n",
    "  u₀(x::Float64) = cos(π * x) + x^3\n",
    "  left_bc = Neumann(0.0)\n",
    "  right_bc = Neumann(3.0)\n",
    "  Nₓ = 100\n",
    "  st = SpaceTime(1.0, 1.0)\n",
    "  sample_time = 0.1\n",
    "t, x, u = solve_rxn_diffn_eqn(left_bc, right_bc, f, u₀, D, Nₓ, st, sample_time)\n",
    "\n"
   ]
  }
 ],
 "metadata": {
  "kernelspec": {
   "display_name": "Julia 0.6.2",
   "language": "julia",
   "name": "julia-0.6"
  },
  "language_info": {
   "file_extension": ".jl",
   "mimetype": "application/julia",
   "name": "julia",
   "version": "0.6.2"
  }
 },
 "nbformat": 4,
 "nbformat_minor": 2
}
