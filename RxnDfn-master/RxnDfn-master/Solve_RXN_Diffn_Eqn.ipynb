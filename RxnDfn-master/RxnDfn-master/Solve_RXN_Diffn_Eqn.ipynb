{
 "cells": [
  {
   "cell_type": "markdown",
   "metadata": {},
   "source": [
    "In this program we will solve a reaction diffusion equation based on your imput. \n",
    "The equation we work with is as follows:"
   ]
  },
  {
   "cell_type": "markdown",
   "metadata": {},
   "source": [
    "# Diffusion equation: \n",
    "\\begin{equation}\n",
    "    u_{i,k+1} - D(\\Delta t)\\frac{u_{i-1,k+1}-2u_{i,k+1}+u_{i+1,k+1}}{2(\\Delta x)^2}\n",
    "    = u_{i,k} + D(\\Delta t)\\frac{u_{i-1,k}-2u_{i,k}+u_{i+1,k}}{2(\\Delta x)^2} + (\\Delta t)f(x_i,t_k,u_{i,k})\n",
    "\\end{equation}"
   ]
  },
  {
   "cell_type": "code",
   "execution_count": 2,
   "metadata": {
    "collapsed": true
   },
   "outputs": [],
   "source": [
    "using Plots"
   ]
  },
  {
   "cell_type": "code",
   "execution_count": 1,
   "metadata": {},
   "outputs": [],
   "source": [
    "abstract type BoundaryCondition\n",
    "end\n",
    "\n",
    "type Dirichlet <: BoundaryCondition \n",
    "    ū₀::Float64\n",
    "    ūₗ::Float64\n",
    "end\n",
    "\n",
    "type Neumann <: BoundaryCondition\n",
    "    ū₀::Float64\n",
    "    ūₗ::Float64\n",
    "end \n",
    "\n",
    "type Periodic <: BoundaryCondition\n",
    "    ū₀::Float64   # ū₀ = ūₗ\n",
    "    ūₗ::Float64\n",
    "end "
   ]
  },
  {
   "cell_type": "code",
   "execution_count": 3,
   "metadata": {},
   "outputs": [],
   "source": [
    "type Discretization\n",
    "    Nₜ::Float64 \n",
    "    Nₓ::Float64 \n",
    "    Δx::Float64\n",
    "    Δt::Float64\n",
    "end \n",
    "\n",
    "type SpaceTime\n",
    "    L::Float64\n",
    "    tf::Float64\n",
    "end"
   ]
  },
  {
   "cell_type": "code",
   "execution_count": 4,
   "metadata": {},
   "outputs": [
    {
     "data": {
      "text/plain": [
       "build_tri_diagonal_matrix (generic function with 1 method)"
      ]
     },
     "execution_count": 4,
     "metadata": {},
     "output_type": "execute_result"
    }
   ],
   "source": [
    "function build_tri_diagonal_matrix(discretization::Discretization, λ::Float64, bc::BoundaryCondition)\n",
    "    # number of unknowns\n",
    "    matrix_dim = discretization.Nₓ\n",
    "    \n",
    "    if typeof(bc) == Dirichlet\n",
    "        matrix_dim -= 2\n",
    "    end\n",
    "    \n",
    "    if typeof(bc) == Periodic\n",
    "        matrix_dim -= 1\n",
    "    end\n",
    "        \n",
    "    A = zeros(matrix_dim, matrix_dim)\n",
    "    \n",
    "    for i = 1:matrix_dim\n",
    "        A[i, i] = 1 + 2 * λ\n",
    "    end\n",
    "        \n",
    "    for i = 1:matrix_dim - 1\n",
    "        A[i  , i+1] = -λ\n",
    "        A[i+1, i  ] = -λ\n",
    "    end\n",
    "    \n",
    "    if typeof(bc) == Periodic\n",
    "        A[1, end] = -λ\n",
    "        A[end, 1] = -λ\n",
    "    end\n",
    "        \n",
    "    if typeof(bc) == Neumann\n",
    "        A[1, 2] = -2 * λ\n",
    "        A[end, end - 1] = -2 * λ\n",
    "    end \n",
    "    \n",
    "    return A\n",
    "        \n",
    "end"
   ]
  },
  {
   "cell_type": "code",
   "execution_count": 5,
   "metadata": {},
   "outputs": [
    {
     "data": {
      "text/plain": [
       "solve_rxn_diffn_eqn (generic function with 1 method)"
      ]
     },
     "execution_count": 5,
     "metadata": {},
     "output_type": "execute_result"
    }
   ],
   "source": [
    "function solve_rxn_diffn_eqn(f, u₀, bc::BoundaryCondition, D, Nₓ, st::SpaceTime)\n",
    "    \n",
    "    discretization = Discretization(NaN, Nₓ, NaN, NaN)\n",
    "    \n",
    "    @assert(bc.ū₀ ≈ u₀(bc.ū₀), \"The boundary condition is inconsistent with the initial condition.\")\n",
    "    @assert(bc.ūₗ ≈ u₀(bc.ūₗ), \"The boundary condition is inconsistent with the initial condition.\")\n",
    "    x = collect(linspace(0, st.L, discretization.Nₓ))\n",
    "    discretization.Δx = x[2] - x[1]\n",
    "    discretization.Δt = discretization.Δx^2\n",
    "    @printf(\"%d points in x-discretization. dx = %f\\n\", discretization.Nₓ, discretization.Δx)\n",
    "    discretization.Nₜ = ceil(Int, st.tf / discretization.Δt) #this includes the t = 0 step, take Nₜ time steps\n",
    "    @printf(\"%d points in t-discretization. dt = %f\\n\", discretization.Nₜ, discretization.Δt)\n",
    "    t = [discretization.Δt * (k - 1) for k = 1:discretization.Nₜ]; #list comprehension \n",
    "    \n",
    "    λ = (D * discretization.Δt) / (2 * (discretization.Δx)^2)\n",
    "    \n",
    "    ## Making Tridiagonal Matrix ##\n",
    "    A = build_tri_diagonal_matrix(discretization, λ, bc)\n",
    "    \n",
    "    ## Making u ##\n",
    "    u = zeros(Float64, discretization.Nₓ, discretization.Nₜ) \n",
    "    #Take into account the initial condition and boundary counditions\n",
    "    u[:,1] = u₀.(x) \n",
    "    u[1,:] = bc.ū₀\n",
    "    u[end,:] = bc.ūₗ\n",
    "       \n",
    "    ## Making right hand side to fill in the rest of u ##\n",
    "    if typeof(bc) == Dirichlet\n",
    "        rhs = zeros(Float64, discretization.Nₓ - 2)\n",
    "        for k = 2:discretization.Nₜ #this is the column of the u array, not the tₖ  \n",
    "            for i = 2:(discretization.Nₓ - 1) #\n",
    "                rhs[i-1] = λ*(u[i - 1, k - 1] - 2*u[i, k - 1] + u[i + 1, k - 1]) + f(x[i], t[k - 1], u[i, k - 1])*discretization.Δt + u[i, k - 1] \n",
    "            end\n",
    "        u[2:end-1, k] = A \\ rhs       #Au = rhs\n",
    "        end\n",
    "    end\n",
    "    \n",
    "    if typeof(bc) == Periodic \n",
    "        rhs = zeros(Float64, discretization.Nₓ - 1)\n",
    "         for k = 2:discretization.Nₜ #this is the column of the u array, not the tₖ  \n",
    "            for i = 1:(discretization.Nₓ - 1) \n",
    "                if (i == 1)\n",
    "                    rhs[i] = λ*(u[Nₓ - 1, k - 1] - 2*u[i, k - 1] + u[i + 1, k - 1]) + f(x[i], t[k - 1], u[i, k - 1])*discretization.Δt + u[i, k - 1] \n",
    "                else\n",
    "                    rhs[i] = λ*(u[i - 1, k - 1] - 2*u[i, k - 1] + u[i + 1, k - 1]) + f(x[i], t[k - 1], u[i, k - 1])*discretization.Δt + u[i, k - 1]\n",
    "                end\n",
    "            end\n",
    "        u[2:end-1, k] = A \\ rhs       #Au = rhs\n",
    "        end\n",
    "    end\n",
    "     \n",
    "    \n",
    "    if typeof(bc) == Neumann \n",
    "        rhs = zeros(Float64, discretization.Nₓ)\n",
    "        for k = 2:discretization.Nₜ #this is the column of the u array, not the tₖ  \n",
    "            for i = 1:(discretization.Nₓ) \n",
    "                if (i == 1)\n",
    "                    rhs[i] = λ*((-4 * discretization.Δx * du₀) + 2*u[i + 1, k - 1] - 2*u[i, k - 1]) + f(x[i], t[k - 1], u[i, k - 1])*discretization.Δt + u[i, k - 1]\n",
    "                elseif (i == discretization.Nₓ)\n",
    "                    rhs[i] = λ*((4 * discretization.Δx * duₗ) + 2*u[i - 1, k - 1] - 2*u[i, k - 1])  + f(x[i], t[k - 1], u[i, k - 1])*discretization.Δt + u[i, k - 1]\n",
    "                else\n",
    "                    rhs[i] = λ*(u[i - 1, k - 1] - 2*u[i, k - 1] + u[i + 1, k - 1]) + f(x[i], t[k - 1], u[i, k - 1])*discretization.Δt + u[i, k - 1]\n",
    "                end\n",
    "            end\n",
    "        u[2:end-1, k] = A \\ rhs       #Au = rhs\n",
    "        end\n",
    "\n",
    "    end \n",
    "    \n",
    "        \n",
    "    return t, x, u \n",
    "    \n",
    "end "
   ]
  },
  {
   "cell_type": "markdown",
   "metadata": {
    "slideshow": {
     "slide_type": "fragment"
    }
   },
   "source": [
    "Enter the following: \n",
    "\n",
    "Reaction Term (f(x, t, u))\n",
    "\n",
    "Initial Condition (u₀)\n",
    "\n",
    "Boundary Conditions (ū₀ and ūₗ)\n",
    "\n",
    "Diffusion Coefficient (D)\n",
    "\n",
    "Number of Spacial Steps (Nₓ)\n",
    "\n",
    "Length of Simulation (tf) - should be space time?"
   ]
  },
  {
   "cell_type": "code",
   "execution_count": 10,
   "metadata": {},
   "outputs": [
    {
     "ename": "LoadError",
     "evalue": "\u001b[91mUndefVarError: t not defined\u001b[39m",
     "output_type": "error",
     "traceback": [
      "\u001b[91mUndefVarError: t not defined\u001b[39m",
      "",
      "Stacktrace:",
      " [1] \u001b[1mu₀\u001b[22m\u001b[22m\u001b[1m(\u001b[22m\u001b[22m::Float64\u001b[1m)\u001b[22m\u001b[22m at \u001b[1m.\\In[10]:10\u001b[22m\u001b[22m",
      " [2] \u001b[1msolve_rxn_diffn_eqn\u001b[22m\u001b[22m\u001b[1m(\u001b[22m\u001b[22m::#f, ::#u₀, ::Neumann, ::Float64, ::Float64, ::SpaceTime\u001b[1m)\u001b[22m\u001b[22m at \u001b[1m.\\In[5]:5\u001b[22m\u001b[22m",
      " [3] \u001b[1minclude_string\u001b[22m\u001b[22m\u001b[1m(\u001b[22m\u001b[22m::String, ::String\u001b[1m)\u001b[22m\u001b[22m at \u001b[1m.\\loading.jl:522\u001b[22m\u001b[22m"
     ]
    }
   ],
   "source": [
    "#Neumann BC Test\n",
    "\n",
    "g(x::Float64) = x^3\n",
    "\n",
    "function exact_u(x::Float64, t::Float64) \n",
    "    return e^(-π^2 * t) * cos(π * x) + g(x)\n",
    "end\n",
    "\n",
    "f(x::Float64, t::Float64, u::Float64) = -g(x)\n",
    "u₀(x::Float64) = cos(π * x) * e^(-π^2 * t) + g(x)\n",
    "\n",
    "bc = Neumann(0.0, 3.0)\n",
    "D = 1.0\n",
    "Nₓ = 20.0\n",
    "st = SpaceTime(1.0, 1.0)\n",
    "\n",
    "\n",
    "t, x, u = solve_rxn_diffn_eqn(f, u₀, bc, D, Nₓ, st)"
   ]
  },
  {
   "cell_type": "code",
   "execution_count": 6,
   "metadata": {},
   "outputs": [
    {
     "data": {
      "text/plain": [
       "20"
      ]
     },
     "execution_count": 6,
     "metadata": {},
     "output_type": "execute_result"
    }
   ],
   "source": [
    "#Dirichlet BC Test\n",
    "f(x::Float64, t::Float64, u::Float64) = 100 * (D * π^2 - 1.0) * (e ^ (-t)  * sin(π * x))\n",
    "u₀(x::Float64) = 100 * sin(π * x)\n",
    "\n",
    "D = 1.0\n",
    "const Nₓ = 20\n"
   ]
  },
  {
   "cell_type": "code",
   "execution_count": 15,
   "metadata": {},
   "outputs": [
    {
     "data": {
      "text/plain": [
       "Neumann(2.0, 2.0)"
      ]
     },
     "execution_count": 15,
     "metadata": {},
     "output_type": "execute_result"
    }
   ],
   "source": [
    "#d = Discretization(0, 20, 0.3, 0.09)\n",
    "#bc = Neumann(2.0, 2.0)"
   ]
  },
  {
   "cell_type": "code",
   "execution_count": 10,
   "metadata": {},
   "outputs": [
    {
     "data": {
      "text/plain": [
       "Dirichlet(0.0, 0.0)"
      ]
     },
     "execution_count": 10,
     "metadata": {},
     "output_type": "execute_result"
    }
   ],
   "source": [
    "bc = Dirichlet(0.0,0.0)"
   ]
  },
  {
   "cell_type": "code",
   "execution_count": 11,
   "metadata": {},
   "outputs": [
    {
     "data": {
      "text/plain": [
       "SpaceTime(1.0, 1.0)"
      ]
     },
     "execution_count": 11,
     "metadata": {},
     "output_type": "execute_result"
    }
   ],
   "source": [
    "st = SpaceTime(1.0, 1.0)"
   ]
  },
  {
   "cell_type": "code",
   "execution_count": 12,
   "metadata": {},
   "outputs": [
    {
     "ename": "LoadError",
     "evalue": "\u001b[91mInexactError()\u001b[39m",
     "output_type": "error",
     "traceback": [
      "\u001b[91mInexactError()\u001b[39m",
      "",
      "Stacktrace:",
      " [1] \u001b[1mconvert\u001b[22m\u001b[22m\u001b[1m(\u001b[22m\u001b[22m::Type{Int64}, ::Float64\u001b[1m)\u001b[22m\u001b[22m at \u001b[1m.\\float.jl:679\u001b[22m\u001b[22m",
      " [2] \u001b[1msolve_rxn_diffn_eqn\u001b[22m\u001b[22m\u001b[1m(\u001b[22m\u001b[22m::#f, ::#u₀, ::Dirichlet, ::Float64, ::Int64, ::SpaceTime\u001b[1m)\u001b[22m\u001b[22m at \u001b[1m.\\In[8]:3\u001b[22m\u001b[22m",
      " [3] \u001b[1minclude_string\u001b[22m\u001b[22m\u001b[1m(\u001b[22m\u001b[22m::String, ::String\u001b[1m)\u001b[22m\u001b[22m at \u001b[1m.\\loading.jl:522\u001b[22m\u001b[22m"
     ]
    }
   ],
   "source": [
    "t, x, u = solve_rxn_diffn_eqn(f, u₀, bc, D, Nₓ, st)"
   ]
  },
  {
   "cell_type": "code",
   "execution_count": 10,
   "metadata": {},
   "outputs": [
    {
     "data": {
      "text/plain": [
       "exact_u (generic function with 1 method)"
      ]
     },
     "execution_count": 10,
     "metadata": {},
     "output_type": "execute_result"
    }
   ],
   "source": [
    "function exact_u(x::Float64, t::Float64) \n",
    "        return 100 * exp(-t) * sin(π * x) #exp(-2 * t) * sin(5 * π * x) #Let L = 1\n",
    "    end"
   ]
  },
  {
   "cell_type": "code",
   "execution_count": 14,
   "metadata": {},
   "outputs": [
    {
     "ename": "LoadError",
     "evalue": "\u001b[91mUndefVarError: tf not defined\u001b[39m",
     "output_type": "error",
     "traceback": [
      "\u001b[91mUndefVarError: tf not defined\u001b[39m",
      "",
      "Stacktrace:",
      " [1] \u001b[1minclude_string\u001b[22m\u001b[22m\u001b[1m(\u001b[22m\u001b[22m::String, ::String\u001b[1m)\u001b[22m\u001b[22m at \u001b[1m./loading.jl:522\u001b[22m\u001b[22m"
     ]
    }
   ],
   "source": [
    " ## Making gif to compare exact equation and rxn_diffn_equ ##\n",
    "\n",
    "Nₜ=ceil(Int, tf / Δt)\n",
    "\n",
    "@gif for i = 1:200:Nₜ\n",
    "    scatter(x,u[:,i], ylim=(0,100), label=\"numerical\", xlabel=\"x\", ylabel=\"u\", title=@sprintf(\"t = %.2f\", t[i]))\n",
    "    plot!(x, exact_u.(x,t[i]), label=\"exact\")\n",
    "end "
   ]
  },
  {
   "cell_type": "code",
   "execution_count": 15,
   "metadata": {},
   "outputs": [
    {
     "data": {
      "text/plain": [
       "PyPlot"
      ]
     },
     "execution_count": 15,
     "metadata": {},
     "output_type": "execute_result"
    }
   ],
   "source": [
    "import PyPlot; const plt = PyPlot"
   ]
  },
  {
   "cell_type": "code",
   "execution_count": 16,
   "metadata": {},
   "outputs": [
    {
     "ename": "LoadError",
     "evalue": "\u001b[91mUndefVarError: t not defined\u001b[39m",
     "output_type": "error",
     "traceback": [
      "\u001b[91mUndefVarError: t not defined\u001b[39m",
      "",
      "Stacktrace:",
      " [1] \u001b[1minclude_string\u001b[22m\u001b[22m\u001b[1m(\u001b[22m\u001b[22m::String, ::String\u001b[1m)\u001b[22m\u001b[22m at \u001b[1m./loading.jl:522\u001b[22m\u001b[22m"
     ]
    }
   ],
   "source": [
    "## Create a heat map ##\n",
    "Nₜ = length(t)\n",
    "\n",
    "\n",
    "X = similar(transpose(u))\n",
    "T = similar(transpose(u))\n",
    "\n",
    "for i = 1:Nₜ\n",
    "    X[i,:] = x\n",
    "end\n",
    "\n",
    "for i = 1:Nₓ\n",
    "    T[:,i] = t\n",
    "end\n",
    "\n",
    "plt.figure()\n",
    "plt.pcolormesh(X,T, transpose(u))\n",
    "plt.xlabel(\"x\")\n",
    "plt.ylabel(\"t\")\n",
    "plt.colorbar(label=\"Concentration of A\")"
   ]
  },
  {
   "cell_type": "code",
   "execution_count": null,
   "metadata": {
    "collapsed": true
   },
   "outputs": [],
   "source": []
  }
 ],
 "metadata": {
  "kernelspec": {
   "display_name": "Julia 0.6.2",
   "language": "julia",
   "name": "julia-0.6"
  },
  "language_info": {
   "file_extension": ".jl",
   "mimetype": "application/julia",
   "name": "julia",
   "version": "0.6.2"
  }
 },
 "nbformat": 4,
 "nbformat_minor": 2
}
