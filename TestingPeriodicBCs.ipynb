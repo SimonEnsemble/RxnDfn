{
 "cells": [
  {
   "cell_type": "code",
   "execution_count": 1,
   "metadata": {},
   "outputs": [
    {
     "data": {
      "text/plain": [
       "build_tri_diagonal_matrix (generic function with 1 method)"
      ]
     },
     "execution_count": 1,
     "metadata": {},
     "output_type": "execute_result"
    }
   ],
   "source": [
    "abstract type BoundaryCondition\n",
    "end\n",
    "\n",
    "type Dirichlet <: BoundaryCondition\n",
    "    ū₀::Float64\n",
    "    ūₗ::Float64\n",
    "end\n",
    "\n",
    "type Neumann <: BoundaryCondition\n",
    "    ∂ū₀::Float64\n",
    "    ∂ūₗ::Float64\n",
    "end\n",
    "\n",
    "type Periodic <: BoundaryCondition\n",
    "end\n",
    "\n",
    "type Discretization\n",
    "    Nₓ::Int64\n",
    "    Δx::Float64\n",
    "    Nₜ::Int64\n",
    "    Δt::Float64\n",
    "end\n",
    "\n",
    "type SpaceTime\n",
    "    L::Float64 #spacial extent\n",
    "    tf::Float64 #time span of simulation\n",
    "end\n",
    "\n",
    "#Determine the number of spatial unknowns at each time step.\n",
    "function nb_spatial_unknowns(discretization::Discretization, bc::BoundaryCondition)\n",
    "    if typeof(bc) == Neumann\n",
    "        return discretization.Nₓ\n",
    "    elseif typeof(bc) == Dirichlet\n",
    "        return discretization.Nₓ - 2\n",
    "    elseif typeof(bc) == Periodic\n",
    "        return discretization.Nₓ - 1\n",
    "    end\n",
    "end\n",
    "\n",
    "function build_tri_diagonal_matrix(discretization::Discretization, λ::Float64, bc::BoundaryCondition)\n",
    "    # determine number of unknowns based on boundary condition\n",
    "    matrix_dim = nb_spatial_unknowns(discretization, bc)\n",
    "\n",
    "    A = zeros(matrix_dim, matrix_dim)\n",
    "\n",
    "    for i = 1:matrix_dim\n",
    "        A[i, i] = 1 + 2 * λ\n",
    "    end\n",
    "\n",
    "    for i = 1:matrix_dim - 1\n",
    "        A[i, i+1] = -λ\n",
    "        A[i+1, i] = -λ\n",
    "    end\n",
    "\n",
    "    if typeof(bc) == Periodic\n",
    "        A[1, end] = -λ \n",
    "        A[end, 1] = -λ  \n",
    "    elseif typeof(bc) == Neumann\n",
    "        A[1, 2] = -2 * λ\n",
    "        A[end, end - 1] = -2 * λ\n",
    "    end\n",
    "\n",
    "    return A\n",
    "\n",
    "end"
   ]
  },
  {
   "cell_type": "code",
   "execution_count": 2,
   "metadata": {},
   "outputs": [
    {
     "data": {
      "text/plain": [
       "solve_rxn_diffn_eqn"
      ]
     },
     "execution_count": 2,
     "metadata": {},
     "output_type": "execute_result"
    }
   ],
   "source": [
    "using Calculus\n",
    "using ProgressMeter\n",
    "\"\"\"\n",
    "Arguments:\n",
    "* f: reaction term f(x, t, u)\n",
    "* u₀: initial condition u₀(x)\n",
    "* bc::BoundaryCondition: boundary condition\n",
    "* D::Float64: diffusion coefficient\n",
    "* Nₓ::Int: number of spatial discretization points\n",
    "* st::SpaceTime: space-time over which solution to PDE is approximated\n",
    "* sample_time::Float64: stores u every sample_time time steps\n",
    "\"\"\"\n",
    "function solve_rxn_diffn_eqn(f, u₀, bc::BoundaryCondition, D::Float64, Nₓ::Int, st::SpaceTime, sample_time::Float64)\n",
    "\n",
    "    # compute Δx, Nₜ, Δt below.\n",
    "    discretization = Discretization(Nₓ, NaN, 0, NaN)\n",
    "\n",
    "    # ensure that the boundary condition is consistent with the initial condition\n",
    "    if isa(bc, Dirichlet)\n",
    "        @assert(bc.ū₀ ≈ u₀(0.0),\n",
    "            \"The initial condition is inconsistent with Dirichlet boundary condition.\")\n",
    "        @assert(isapprox(bc.ūₗ, u₀(st.L), atol = 1e-10),\n",
    "            \"The initial condition is inconsistent with Dirichlet boundary condition.\")\n",
    "    elseif isa(bc, Periodic)\n",
    "        @assert(u₀(0.0) ≈ u₀(st.L),\n",
    "            \"The initial condition is inconsistent with Periodic boundary conditions.\")\n",
    "    elseif isa(bc, Neumann)\n",
    "        @assert(isapprox(bc.∂ū₀, derivative(u₀, 0.0), atol = 1e-10),\n",
    "            \"The initial condition is inconsistent with Neumann boundary condition.\")\n",
    "        @assert(isapprox(bc.∂ūₗ, derivative(u₀, st.L), atol = 1e-10),\n",
    "            \"The initial condition is inconsistent with Neumann boundary condition.\")\n",
    "    end\n",
    "\n",
    "    # discretize space.\n",
    "    x = collect(linspace(0, st.L, discretization.Nₓ)) # includes end points!\n",
    "    discretization.Δx = x[2] - x[1]\n",
    "    @printf(\"%d points in x-discretization. dx = %f\\n\", discretization.Nₓ, discretization.Δx)\n",
    "\n",
    "    # discreteize time.\n",
    "    discretization.Δt = discretization.Δx ^ 2\n",
    "    discretization.Nₜ = ceil(Int, st.tf / discretization.Δt)\n",
    "    @printf(\"%d points in t-discretization. dt = %f\\n\", discretization.Nₜ, discretization.Δt)\n",
    "\n",
    "    # nondimensional parameter involved in discreteization\n",
    "    λ = (D * discretization.Δt) / (2 * (discretization.Δx) ^ 2)\n",
    "\n",
    "    # build tri-diagonal matrix\n",
    "    A = build_tri_diagonal_matrix(discretization, λ, bc)\n",
    "\n",
    "    nb_unknowns = nb_spatial_unknowns(discretization, bc)\n",
    "\n",
    "    # initialize u at k = 0\n",
    "    # this u is the value of u(x, t) when t = k - 1 over discretized x points.\n",
    "    u = u₀.(x)\n",
    "\n",
    "    # trim u and x so that i index corresponds to xᵢ and uᵢ,ₖ\n",
    "    if typeof(bc) == Neumann\n",
    "        # all are unknown, no trimming required\n",
    "    elseif typeof(bc) == Dirichlet\n",
    "        u = u[2:end-1]\n",
    "        x = x[2:end-1]\n",
    "    elseif typeof(bc) == Periodic\n",
    "        u = u[1:end-1]\n",
    "        x = x[1:end-1]\n",
    "    end\n",
    "    @assert(length(u) == nb_unknowns)\n",
    "    @assert(length(x) == nb_unknowns)\n",
    "\n",
    "    # initialize right-hand side of matrix eqn. solved at each time step.\n",
    "    rhs = zeros(Float64, nb_unknowns)\n",
    "\n",
    "    # initialize u_sample and t_sample to be filled below with specific time steps for graphing purposes\n",
    "    num_samples = ceil(Int, st.tf / sample_time) # determines size of u_sample and t_sample\n",
    "    sample_freq = floor(Int, discretization.Nₜ / (num_samples - 1)) # don't count the 0 sample\n",
    "    u_sample = zeros(Float64, discretization.Nₓ, num_samples) # nb_unknowns = size of u, num_samples, how many u's we will store\n",
    "    t_sample = zeros(Float64, num_samples)\n",
    "    sample_counter = 1 # for if loop below to identify column of u_sample, increments below after u_sample is imput\n",
    "\n",
    "    # take time steps.\n",
    "    @showprogress 1 \"Computing...\" for k = 1:discretization.Nₜ\n",
    "       # time here, inside the loop\n",
    "        t = discretization.Δt * k\n",
    "\n",
    "        # Store u and t every sample_time so we can plot.\n",
    "        if (k == 1) || (k % sample_freq == 0)\n",
    "            # Different bc's have different num of unknowns, so we account for that here\n",
    "            # Dirichlet and Periodic bc's are added later\n",
    "            if typeof(bc) == Neumann\n",
    "                 u_sample[:, sample_counter] = u\n",
    "            elseif typeof(bc) == Dirichlet\n",
    "                u_sample[2:end-1, sample_counter] = u\n",
    "            elseif typeof(bc) == Periodic\n",
    "                u_sample[1:end-1, sample_counter] = u\n",
    "            end\n",
    "                t_sample[sample_counter] = t - discretization.Δt\n",
    "                sample_counter += 1\n",
    "         end\n",
    "\n",
    "        # build right-hand side vector of matrix eqn.\n",
    "        for i = 1:nb_unknowns\n",
    "            # contribution from first order discretization of time derivative\n",
    "            rhs[i] = u[i]\n",
    "            # contribution from reaction term\n",
    "            rhs[i] += f(x[i], t, u[i]) * discretization.Δt\n",
    "            # TODO contribution from advection?\n",
    "            # contribution from spatial Laplacian\n",
    "            if (i != 1) && (i != nb_unknowns)\n",
    "                rhs[i] += λ * (u[i - 1] - 2 * u[i] + u[i + 1])\n",
    "            end\n",
    "         end\n",
    "\n",
    "         # based on boundary condition, handle first and last component of Laplacian.\n",
    "         if typeof(bc) == Neumann\n",
    "         # -4 and 4 come from making \"ghost points\" as described by Gustafson (u₀ and uₙ₊₁ are considered our ghost points)\n",
    "         # ∂ū₀ = (u₂ - u₀)/(2 * Δx) which means u₀ = -2 * Δx * ∂ū₀ + u₂\n",
    "         # substitute u₀ in the right hand side of the diffusion equation at i = 1 to get the equation below for rhs[1]\n",
    "         # by the same logic, use uₙ₊₁ = 2 * Δx * ∂ūₗ + uₙ₋₁ for the right hand side of the diffusion equation at i = end\n",
    "             rhs[1] += λ * (-4.0 * discretization.Δx * bc.∂ū₀ + 2 * u[2] - 2 * u[1])\n",
    "             rhs[end] += λ * (4.0 * discretization.Δx * bc.∂ūₗ + 2 * u[end - 1] - 2 * u[end])\n",
    "         elseif typeof(bc) == Dirichlet\n",
    "             # Simply input the known boundary condition for Dirichlet\n",
    "             rhs[1] += λ * (bc.ū₀ - 2 * u[1] + u[2])\n",
    "             rhs[end] += λ  * (u[end - 1] - 2 * u[end]  + bc.ūₗ)\n",
    "         elseif typeof(bc) == Periodic\n",
    "             # draw a circle to see.\n",
    "             # u[-1] is actually u[end] by PBCs\n",
    "             rhs[1] += λ * (u[end] - 2 * u[1] + u[2])\n",
    "             # u[end+1] is actually u[1]\n",
    "             rhs[end] += λ * (u[end - 1] - 2 * u[end] + u[1])\n",
    "         end\n",
    "\n",
    "         # solve for u at next time step (overwrite previous)\n",
    "         u = A \\ rhs\n",
    "    end\n",
    "\n",
    "    # add in boundary conditions to Dirichlet and Periodic\n",
    "    if typeof(bc) == Dirichlet\n",
    "        # insert bc's for first and last rows\n",
    "        u_sample[1, :] = bc.ū₀\n",
    "        u_sample[end, :] = bc.ūₗ\n",
    "        # add first and last spatial step to x\n",
    "        x = vcat([0.0], x, [st.L])\n",
    "    elseif typeof(bc) == Periodic\n",
    "        # assign last row to be the same as first since Periodic bc's\n",
    "        u_sample[end, :] = u_sample[1, :]\n",
    "        # add last spatial step to x\n",
    "        push!(x, st.L)\n",
    "    end\n",
    "\n",
    "    return t_sample, x, u_sample\n",
    "\n",
    "end"
   ]
  },
  {
   "cell_type": "code",
   "execution_count": 8,
   "metadata": {},
   "outputs": [
    {
     "name": "stdout",
     "output_type": "stream",
     "text": [
      "1000 points in x-discretization. dx = 0.001001\n",
      "99801 points in t-discretization. dt = 0.000001\n"
     ]
    },
    {
     "name": "stderr",
     "output_type": "stream",
     "text": [
      "\u001b[32mComputing...100%|███████████████████████████████████████| Time: 0:58:48\u001b[39m\n"
     ]
    },
    {
     "data": {
      "text/plain": [
       "([0.0, 0.0111102, 0.0222214, 0.0333326, 0.0444438, 0.0555551, 0.0666663, 0.0777775, 0.0888887, 0.0999999], [0.0, 0.001001, 0.002002, 0.003003, 0.004004, 0.00500501, 0.00600601, 0.00700701, 0.00800801, 0.00900901  …  0.990991, 0.991992, 0.992993, 0.993994, 0.994995, 0.995996, 0.996997, 0.997998, 0.998999, 1.0], [6.0 5.96185 … 5.75946 5.73206; 6.02404 5.98676 … 5.78363 5.75613; … ; 5.97372 5.93666 … 5.73505 5.70776; 6.0 5.96185 … 5.75946 5.73206])"
      ]
     },
     "execution_count": 8,
     "metadata": {},
     "output_type": "execute_result"
    }
   ],
   "source": [
    "#Periodic BC Test\n",
    "function exact_u(x::Float64, t::Float64, D::Float64)\n",
    "    return exp(-(2 * π)^2 * D * t) * (4 * sin(2 * π * x) + 6 * cos(2 * π * x)) + x * (x - 1)\n",
    "end\n",
    "\n",
    "D = 0.01\n",
    "\n",
    "f(x::Float64, t::Float64, u::Float64) = -2 * D\n",
    "u₀(x::Float64) = 4 * sin(2 * π * x) + 6 * cos(2 * π * x) + x * (x - 1)\n",
    "\n",
    "bc = Periodic()\n",
    "\n",
    "Nₓ = 1000\n",
    "st = SpaceTime(1.0, 0.1)\n",
    "sample_time = 0.01 \n",
    "\n",
    "t, x, u = solve_rxn_diffn_eqn(f, u₀, bc, D, Nₓ, st, sample_time)"
   ]
  },
  {
   "cell_type": "code",
   "execution_count": 5,
   "metadata": {},
   "outputs": [
    {
     "data": {
      "text/plain": [
       "100-element Array{Float64,1}:\n",
       " 0.0      \n",
       " 0.010101 \n",
       " 0.020202 \n",
       " 0.030303 \n",
       " 0.040404 \n",
       " 0.0505051\n",
       " 0.0606061\n",
       " 0.0707071\n",
       " 0.0808081\n",
       " 0.0909091\n",
       " 0.10101  \n",
       " 0.111111 \n",
       " 0.121212 \n",
       " ⋮        \n",
       " 0.888889 \n",
       " 0.89899  \n",
       " 0.909091 \n",
       " 0.919192 \n",
       " 0.929293 \n",
       " 0.939394 \n",
       " 0.949495 \n",
       " 0.959596 \n",
       " 0.969697 \n",
       " 0.979798 \n",
       " 0.989899 \n",
       " 1.0      "
      ]
     },
     "execution_count": 5,
     "metadata": {},
     "output_type": "execute_result"
    }
   ],
   "source": [
    "x"
   ]
  },
  {
   "cell_type": "code",
   "execution_count": 6,
   "metadata": {},
   "outputs": [
    {
     "data": {
      "text/plain": [
       "10-element Array{Float64,1}:\n",
       " 0.0     \n",
       " 0.111009\n",
       " 0.22212 \n",
       " 0.333231\n",
       " 0.444342\n",
       " 0.555454\n",
       " 0.666565\n",
       " 0.777676\n",
       " 0.888787\n",
       " 0.999898"
      ]
     },
     "execution_count": 6,
     "metadata": {},
     "output_type": "execute_result"
    }
   ],
   "source": [
    "t"
   ]
  },
  {
   "cell_type": "code",
   "execution_count": 7,
   "metadata": {},
   "outputs": [
    {
     "data": {
      "text/plain": [
       "draw_heat_map (generic function with 1 method)"
      ]
     },
     "execution_count": 7,
     "metadata": {},
     "output_type": "execute_result"
    }
   ],
   "source": [
    "import PyPlot; const plt = PyPlot\n",
    "function draw_heat_map(t, x, u)\n",
    "    Nₜ = length(t)\n",
    "    Nₓ = length(x)\n",
    "\n",
    "    X = similar(transpose(u))\n",
    "    T = similar(transpose(u))\n",
    "\n",
    "    for i = 1:Nₜ\n",
    "        X[i,:] = x\n",
    "    end\n",
    "\n",
    "    for i = 1:Nₓ\n",
    "        T[:,i] = t\n",
    "    end\n",
    "\n",
    "    plt.figure()\n",
    "    plt.pcolormesh(X,T, transpose(u))\n",
    "    plt.xlabel(\"x\")\n",
    "    plt.ylabel(\"t\")\n",
    "    plt.colorbar(label=\"Concentration of u\")\n",
    "    plt.savefig(\"heatmap.png\")\n",
    "    if typeof(bc) == Neumann\n",
    "        plt.title(\"Neumann Boundary Conditions\")\n",
    "    elseif typeof(bc) == Dirichlet\n",
    "        plt.title(\"Dirichlet Boundary Conditions\")\n",
    "    elseif typeof(bc) == Periodic\n",
    "        plt.title(\"Periodic Boundary Conditions\")\n",
    "    end\n",
    "\n",
    "end"
   ]
  },
  {
   "cell_type": "code",
   "execution_count": 9,
   "metadata": {},
   "outputs": [
    {
     "data": {
      "text/plain": [
       "1000×10 Array{Float64,2}:\n",
       " 6.0      5.97374  5.94759  5.92156  …  5.84415  5.81857  5.7931   5.76774\n",
       " 6.02404  5.99767  5.97141  5.94527     5.86754  5.84185  5.81628  5.79081\n",
       " 6.04784  6.02136  5.995    5.96875     5.89069  5.8649   5.83922  5.81366\n",
       " 6.07141  6.04482  6.01835  5.992       5.91362  5.88773  5.86194  5.83627\n",
       " 6.09473  6.06804  6.04147  6.01501     5.93632  5.91032  5.88443  5.85866\n",
       " 6.11782  6.09103  6.06434  6.03778  …  5.95878  5.93268  5.90669  5.88081\n",
       " 6.14067  6.11377  6.08698  6.06031     5.98101  5.9548   5.92871  5.90274\n",
       " 6.16328  6.13627  6.10938  6.08261     6.003    5.9767   5.95051  5.92443\n",
       " 6.18564  6.15853  6.13154  6.10467     6.02476  5.99836  5.97207  5.94589\n",
       " 6.20776  6.18055  6.15346  6.12649     6.04628  6.01978  5.99339  5.96712\n",
       " 6.22964  6.20233  6.17514  6.14807  …  6.06756  6.04096  6.01448  5.98811\n",
       " 6.25127  6.22387  6.19658  6.16941     6.08861  6.06191  6.03533  6.00887\n",
       " 6.27266  6.24516  6.21777  6.1905      6.10942  6.08262  6.05595  6.02939\n",
       " ⋮                                   ⋱                                    \n",
       " 5.69824  5.67325  5.64838  5.6236      5.54994  5.5256   5.50137  5.47724\n",
       " 5.72681  5.70171  5.67671  5.65182     5.5778   5.55334  5.52899  5.50475\n",
       " 5.75516  5.72994  5.70482  5.67981  …  5.60544  5.58086  5.5564   5.53204\n",
       " 5.78328  5.75794  5.7327   5.70758     5.63285  5.60817  5.58358  5.55911\n",
       " 5.81118  5.78572  5.76036  5.73512     5.66005  5.63525  5.61055  5.58596\n",
       " 5.83885  5.81327  5.7878   5.76244     5.68702  5.66211  5.6373   5.6126 \n",
       " 5.86628  5.84059  5.815    5.78953     5.71378  5.68875  5.66382  5.63901\n",
       " 5.89349  5.86768  5.84198  5.81639  …  5.7403   5.71516  5.69013  5.66521\n",
       " 5.92047  5.89454  5.86873  5.84303     5.7666   5.74135  5.71621  5.69118\n",
       " 5.94721  5.92118  5.89525  5.86944     5.79268  5.76732  5.74206  5.71692\n",
       " 5.97372  5.94758  5.92154  5.89562     5.81853  5.79306  5.7677   5.74245\n",
       " 6.0      5.97374  5.94759  5.92156     5.84415  5.81857  5.7931   5.76774"
      ]
     },
     "execution_count": 9,
     "metadata": {},
     "output_type": "execute_result"
    }
   ],
   "source": [
    "function create_exact_u(t, x, exact_u, D)\n",
    "    Nₜ = length(t)\n",
    "    Nₓ = length(x)\n",
    "    u_e = zeros(Float64, Nₓ, Nₜ)\n",
    "    for i = 1:Nₓ\n",
    "        for j = 1:Nₜ\n",
    "            u_e[i,j] = exact_u(x[i], t[j], D)\n",
    "        end\n",
    "    end\n",
    "    return u_e\n",
    "end\n",
    "\n",
    "u_e = create_exact_u(t, x, exact_u, D)"
   ]
  },
  {
   "cell_type": "code",
   "execution_count": 18,
   "metadata": {},
   "outputs": [
    {
     "data": {
      "image/png": "[encoded data removed]",
      "text/plain": [
       "PyPlot.Figure(PyObject <matplotlib.figure.Figure object at 0x000000002DD44CF8>)"
      ]
     },
     "metadata": {},
     "output_type": "display_data"
    },
    {
     "data": {
      "text/plain": [
       "PyObject <matplotlib.text.Text object at 0x0000000004386E80>"
      ]
     },
     "execution_count": 18,
     "metadata": {},
     "output_type": "execute_result"
    }
   ],
   "source": [
    "draw_heat_map(t, x, u)"
   ]
  },
  {
   "cell_type": "code",
   "execution_count": 19,
   "metadata": {},
   "outputs": [
    {
     "data": {
      "image/png": "[encoded data removed]",
      "text/plain": [
       "PyPlot.Figure(PyObject <matplotlib.figure.Figure object at 0x000000002DC52438>)"
      ]
     },
     "metadata": {},
     "output_type": "display_data"
    },
    {
     "data": {
      "text/plain": [
       "PyObject <matplotlib.text.Text object at 0x0000000004445668>"
      ]
     },
     "execution_count": 19,
     "metadata": {},
     "output_type": "execute_result"
    }
   ],
   "source": [
    "draw_heat_map(t, x, u_e)"
   ]
  },
  {
   "cell_type": "code",
   "execution_count": 10,
   "metadata": {},
   "outputs": [
    {
     "data": {
      "text/plain": [
       "1000×10 Array{Float64,2}:\n",
       " 6.0      5.96185  5.93078  5.90097  …  5.81502  5.7871   5.75946  5.73206\n",
       " 6.02404  5.98676  5.95558  5.92566     5.83939  5.81137  5.78363  5.75613\n",
       " 6.04784  6.01137  5.98011  5.9501      5.86352  5.8354   5.80755  5.77994\n",
       " 6.07141  6.0357   6.00437  5.97426     5.8874   5.85917  5.83122  5.80351\n",
       " 6.09473  6.05973  6.02835  5.99817     5.91101  5.88269  5.85464  5.82684\n",
       " 6.11782  6.08348  6.05206  6.0218   …  5.93438  5.90596  5.87782  5.84992\n",
       " 6.14067  6.10693  6.0755   6.04517     5.95749  5.92898  5.90074  5.87274\n",
       " 6.16328  6.1301   6.09865  6.06827     5.98034  5.95174  5.92341  5.89532\n",
       " 6.18564  6.15298  6.12154  6.0911      6.00294  5.97425  5.94583  5.91765\n",
       " 6.20776  6.17557  6.14414  6.11366     6.02528  5.9965   5.968    5.93973\n",
       " 6.22964  6.19787  6.16647  6.13595  …  6.04736  6.0185   5.98991  5.96155\n",
       " 6.25127  6.21988  6.18853  6.15798     6.06918  6.04024  6.01156  5.98312\n",
       " 6.27266  6.24161  6.21031  6.17973     6.09073  6.06172  6.03297  6.00444\n",
       " ⋮                                   ⋱                                    \n",
       " 5.69824  5.66927  5.64033  5.61217     5.53051  5.50393  5.4776   5.4515 \n",
       " 5.72681  5.69724  5.66804  5.6397      5.55759  5.53088  5.50442  5.47819\n",
       " 5.75516  5.72495  5.6955   5.66698  …  5.58443  5.55759  5.531    5.50465\n",
       " 5.78328  5.75238  5.72269  5.694       5.61103  5.58406  5.55735  5.53087\n",
       " 5.81118  5.77955  5.74963  5.72078     5.63739  5.61029  5.58346  5.55685\n",
       " 5.83885  5.80643  5.77631  5.74729     5.66351  5.63628  5.60932  5.5826 \n",
       " 5.86628  5.83304  5.80272  5.77355     5.68938  5.66203  5.63495  5.60811\n",
       " 5.89349  5.85937  5.82887  5.79955  …  5.715    5.68754  5.66034  5.63339\n",
       " 5.92047  5.88542  5.85475  5.8253      5.74038  5.7128   5.68549  5.65842\n",
       " 5.94721  5.91118  5.88036  5.85078     5.76551  5.73781  5.71039  5.68321\n",
       " 5.97372  5.93666  5.9057   5.876       5.79039  5.76258  5.73505  5.70776\n",
       " 6.0      5.96185  5.93078  5.90097     5.81502  5.7871   5.75946  5.73206"
      ]
     },
     "execution_count": 10,
     "metadata": {},
     "output_type": "execute_result"
    }
   ],
   "source": [
    "u"
   ]
  },
  {
   "cell_type": "code",
   "execution_count": 11,
   "metadata": {},
   "outputs": [
    {
     "data": {
      "text/plain": [
       "1000×10 Array{Float64,2}:\n",
       " 6.0      5.97374  5.94759  5.92156  …  5.84415  5.81857  5.7931   5.76774\n",
       " 6.02404  5.99767  5.97141  5.94527     5.86754  5.84185  5.81628  5.79081\n",
       " 6.04784  6.02136  5.995    5.96875     5.89069  5.8649   5.83922  5.81366\n",
       " 6.07141  6.04482  6.01835  5.992       5.91362  5.88773  5.86194  5.83627\n",
       " 6.09473  6.06804  6.04147  6.01501     5.93632  5.91032  5.88443  5.85866\n",
       " 6.11782  6.09103  6.06434  6.03778  …  5.95878  5.93268  5.90669  5.88081\n",
       " 6.14067  6.11377  6.08698  6.06031     5.98101  5.9548   5.92871  5.90274\n",
       " 6.16328  6.13627  6.10938  6.08261     6.003    5.9767   5.95051  5.92443\n",
       " 6.18564  6.15853  6.13154  6.10467     6.02476  5.99836  5.97207  5.94589\n",
       " 6.20776  6.18055  6.15346  6.12649     6.04628  6.01978  5.99339  5.96712\n",
       " 6.22964  6.20233  6.17514  6.14807  …  6.06756  6.04096  6.01448  5.98811\n",
       " 6.25127  6.22387  6.19658  6.16941     6.08861  6.06191  6.03533  6.00887\n",
       " 6.27266  6.24516  6.21777  6.1905      6.10942  6.08262  6.05595  6.02939\n",
       " ⋮                                   ⋱                                    \n",
       " 5.69824  5.67325  5.64838  5.6236      5.54994  5.5256   5.50137  5.47724\n",
       " 5.72681  5.70171  5.67671  5.65182     5.5778   5.55334  5.52899  5.50475\n",
       " 5.75516  5.72994  5.70482  5.67981  …  5.60544  5.58086  5.5564   5.53204\n",
       " 5.78328  5.75794  5.7327   5.70758     5.63285  5.60817  5.58358  5.55911\n",
       " 5.81118  5.78572  5.76036  5.73512     5.66005  5.63525  5.61055  5.58596\n",
       " 5.83885  5.81327  5.7878   5.76244     5.68702  5.66211  5.6373   5.6126 \n",
       " 5.86628  5.84059  5.815    5.78953     5.71378  5.68875  5.66382  5.63901\n",
       " 5.89349  5.86768  5.84198  5.81639  …  5.7403   5.71516  5.69013  5.66521\n",
       " 5.92047  5.89454  5.86873  5.84303     5.7666   5.74135  5.71621  5.69118\n",
       " 5.94721  5.92118  5.89525  5.86944     5.79268  5.76732  5.74206  5.71692\n",
       " 5.97372  5.94758  5.92154  5.89562     5.81853  5.79306  5.7677   5.74245\n",
       " 6.0      5.97374  5.94759  5.92156     5.84415  5.81857  5.7931   5.76774"
      ]
     },
     "execution_count": 11,
     "metadata": {},
     "output_type": "execute_result"
    }
   ],
   "source": [
    "u_e"
   ]
  },
  {
   "cell_type": "code",
   "execution_count": 12,
   "metadata": {},
   "outputs": [],
   "source": [
    "@assert(isapprox(u, u_e, rtol=.001), \"Matrices are not equivalent.\")"
   ]
  },
  {
   "cell_type": "code",
   "execution_count": null,
   "metadata": {
    "collapsed": true
   },
   "outputs": [],
   "source": []
  }
 ],
 "metadata": {
  "kernelspec": {
   "display_name": "Julia 0.6.2",
   "language": "julia",
   "name": "julia-0.6"
  },
  "language_info": {
   "file_extension": ".jl",
   "mimetype": "application/julia",
   "name": "julia",
   "version": "0.6.2"
  }
 },
 "nbformat": 4,
 "nbformat_minor": 2
}
