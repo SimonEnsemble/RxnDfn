{
 "cells": [
  {
   "cell_type": "markdown",
   "metadata": {},
   "source": [
    "In this program we will solve a reaction diffusion equation based on your input. \n",
    "The equation we work with is as follows:"
   ]
  },
  {
   "cell_type": "markdown",
   "metadata": {},
   "source": [
    "# Diffusion equation: \n",
    "\\begin{equation}\n",
    "    \\frac{\\partial u}{\\partial t} = D\\frac{\\partial^2u}{\\partial x^2} + f(x, t, u)\n",
    "\\end{equation}"
   ]
  },
  {
   "cell_type": "markdown",
   "metadata": {},
   "source": [
    "\\begin{equation}\n",
    "    u_{i,k+1} - D(\\Delta t)\\frac{u_{i-1,k+1}-2u_{i,k+1}+u_{i+1,k+1}}{2(\\Delta x)^2}\n",
    "    = u_{i,k} + D(\\Delta t)\\frac{u_{i-1,k}-2u_{i,k}+u_{i+1,k}}{2(\\Delta x)^2} + (\\Delta t)f(x_i,t_k,u_{i,k})\n",
    "\\end{equation}"
   ]
  },
  {
   "cell_type": "code",
   "execution_count": 1,
   "metadata": {
    "collapsed": true
   },
   "outputs": [],
   "source": [
    "abstract type BoundaryCondition\n",
    "end\n",
    "\n",
    "type Dirichlet <: BoundaryCondition \n",
    "    ū₀::Float64\n",
    "    ūₗ::Float64\n",
    "end\n",
    "\n",
    "type Neumann <: BoundaryCondition\n",
    "    ∂ū₀::Float64\n",
    "    ∂ūₗ::Float64\n",
    "end \n",
    "\n",
    "type Periodic <: BoundaryCondition \n",
    "end \n",
    "\n",
    "type Discretization\n",
    "    Nₓ::Int64\n",
    "    Δx::Float64\n",
    "    Nₜ::Int64\n",
    "    Δt::Float64\n",
    "end \n",
    "\n",
    "type SpaceTime\n",
    "    L::Float64 #spacial extent \n",
    "    tf::Float64 #time span of simulation \n",
    "end\n",
    "\n",
    "\"\"\"\n",
    "Determine the number of spatial unknowns at each time step.\n",
    "\"\"\"\n",
    "function nb_spatial_unknowns(discretization::Discretization, bc::BoundaryCondition)\n",
    "    if typeof(bc) == Neumann\n",
    "        return discretization.Nₓ\n",
    "    elseif typeof(bc) == Dirichlet\n",
    "        return discretization.Nₓ - 2\n",
    "    elseif typeof(bc) == Periodic\n",
    "        return discretization.Nₓ - 1\n",
    "    end\n",
    "end\n",
    "\n",
    "\"\"\"\n",
    "Create tridiagonal matrix.\n",
    "\"\"\"\n",
    "function build_tri_diagonal_matrix(discretization::Discretization, λ::Float64, bc::BoundaryCondition)\n",
    "    # determine number of unknowns based on boundary condition\n",
    "    matrix_dim = nb_spatial_unknowns(discretization, bc)\n",
    "    \n",
    "    A = zeros(matrix_dim, matrix_dim)\n",
    "    \n",
    "    for i = 1:matrix_dim\n",
    "        A[i, i] = 1 + 2 * λ\n",
    "    end\n",
    "        \n",
    "    for i = 1:matrix_dim - 1\n",
    "        A[i  , i+1] = -λ\n",
    "        A[i+1, i  ] = -λ\n",
    "    end\n",
    "    \n",
    "    if typeof(bc) == Periodic\n",
    "        A[1, end] = -λ\n",
    "        A[end, 1] = -λ\n",
    "    end\n",
    "        \n",
    "    if typeof(bc) == Neumann\n",
    "        A[1, 2] = -2 * λ\n",
    "        A[end, end - 1] = -2 * λ\n",
    "    end \n",
    "    \n",
    "    return A\n",
    "        \n",
    "end"
   ]
  },
  {
   "cell_type": "code",
   "execution_count": null,
   "metadata": {
    "collapsed": true
   },
   "outputs": [],
   "source": [
    "using Calculus\n",
    "using ProgressMeter\n",
    "\"\"\"\n",
    "Arguments:\n",
    "* f: reaction term f(x, t, u)\n",
    "* u₀: initial condition u₀(x)\n",
    "* bc::BoundaryCondition: boundary condition\n",
    "* D::Float64: diffusion coefficient\n",
    "* Nₓ::Int: number of spatial discretization points\n",
    "* st::SpaceTime: space-time over which solution to PDE is approximated\n",
    "* sample_time::Float64: stores u every sample_time time steps\n",
    "\"\"\"\n",
    "function solve_rxn_diffn_eqn(f, u₀, bc::BoundaryCondition, D::Float64, Nₓ::Int, st::SpaceTime, sample_time::Float64)\n",
    "\n",
    "    # compute Δx, Nₜ, Δt below.\n",
    "    discretization = Discretization(Nₓ, NaN, 0, NaN)\n",
    "\n",
    "    # ensure that the boundary condition is consistent with the initial condition\n",
    "    if isa(bc, Dirichlet)\n",
    "        @assert(bc.ū₀ ≈ u₀(0.0),\n",
    "            \"The initial condition is inconsistent with Dirichlet boundary condition.\")\n",
    "        @assert(isapprox(bc.ūₗ, u₀(st.L), atol = 1e-10),\n",
    "            \"The initial condition is inconsistent with Dirichlet boundary condition.\")\n",
    "    elseif isa(bc, Periodic)\n",
    "        @assert(u₀(0.0) ≈ u₀(st.L),\n",
    "            \"The initial condition is inconsistent with Periodic boundary conditions.\")\n",
    "    elseif isa(bc, Neumann)\n",
    "        @assert(isapprox(bc.∂ū₀, derivative(u₀, 0.0), atol = 1e-10),\n",
    "            \"The initial condition is inconsistent with Neumann boundary condition.\")\n",
    "        @assert(isapprox(bc.∂ūₗ, derivative(u₀, st.L), atol = 1e-10),\n",
    "            \"The initial condition is inconsistent with Neumann boundary condition.\")\n",
    "    end\n",
    "\n",
    "    # discretize space.\n",
    "    x = collect(linspace(0, st.L, discretization.Nₓ)) # includes end points!\n",
    "    discretization.Δx = x[2] - x[1]\n",
    "    @printf(\"%d points in x-discretization. dx = %f\\n\", discretization.Nₓ, discretization.Δx)\n",
    "\n",
    "    # discreteize time.\n",
    "    discretization.Δt = discretization.Δx ^ 2\n",
    "    discretization.Nₜ = ceil(Int, st.tf / discretization.Δt)\n",
    "    @printf(\"%d points in t-discretization. dt = %f\\n\", discretization.Nₜ, discretization.Δt)\n",
    "\n",
    "    # nondimensional parameter involved in discreteization\n",
    "    λ = (D * discretization.Δt) / (2 * (discretization.Δx) ^ 2)\n",
    "\n",
    "    # build tri-diagonal matrix\n",
    "    A = build_tri_diagonal_matrix(discretization, λ, bc)\n",
    "\n",
    "    nb_unknowns = nb_spatial_unknowns(discretization, bc)\n",
    "\n",
    "    # initialize u at k = 0\n",
    "    # this u is the value of u(x, t) when t = k - 1 over discretized x points.\n",
    "    u = u₀.(x)\n",
    "\n",
    "    # trim u and x so that i index corresponds to xᵢ and uᵢ,ₖ\n",
    "    if typeof(bc) == Neumann\n",
    "        # all are unknown, no trimming required\n",
    "    elseif typeof(bc) == Dirichlet\n",
    "        u = u[2:end-1]\n",
    "        x = x[2:end-1]\n",
    "    elseif typeof(bc) == Periodic\n",
    "        u = u[1:end-1]\n",
    "        x = x[1:end-1]\n",
    "    end\n",
    "    @assert(length(u) == nb_unknowns)\n",
    "    @assert(length(x) == nb_unknowns)\n",
    "\n",
    "    # initialize right-hand side of matrix eqn. solved at each time step.\n",
    "    rhs = zeros(Float64, nb_unknowns)\n",
    "\n",
    "    # initialize u_sample and t_sample to be filled below with specific time steps for graphing purposes\n",
    "    num_samples = ceil(Int, st.tf / sample_time) # determines size of u_sample and t_sample\n",
    "    sample_freq = floor(Int, discretization.Nₜ / (num_samples - 1)) # don't count the 0 sample\n",
    "    u_sample = zeros(Float64, discretization.Nₓ, num_samples) # nb_unknowns = size of u, num_samples, how many u's we will store\n",
    "    t_sample = zeros(Float64, num_samples)\n",
    "    sample_counter = 1 # for if loop below to identify column of u_sample, increments below after u_sample is imput\n",
    "\n",
    "    # take time steps.\n",
    "    @showprogress 1 \"Computing...\" for k = 1:discretization.Nₜ\n",
    "       # time here, inside the loop\n",
    "        t = discretization.Δt * k\n",
    "\n",
    "        # Store u and t every sample_time so we can plot.\n",
    "        if (k == 1) || (k % sample_freq == 0)\n",
    "            # Different bc's have different num of unknowns, so we account for that here\n",
    "            # Dirichlet and Periodic bc's are added later\n",
    "            if typeof(bc) == Neumann\n",
    "                 u_sample[:, sample_counter] = u\n",
    "            elseif typeof(bc) == Dirichlet\n",
    "                u_sample[2:end-1, sample_counter] = u\n",
    "            elseif typeof(bc) == Periodic\n",
    "                u_sample[1:end-1, sample_counter] = u\n",
    "            end\n",
    "                t_sample[sample_counter] = t - discretization.Δt\n",
    "                sample_counter += 1\n",
    "         end\n",
    "\n",
    "        # build right-hand side vector of matrix eqn.\n",
    "        for i = 1:nb_unknowns\n",
    "            # contribution from first order discretization of time derivative\n",
    "            rhs[i] = u[i]\n",
    "            # contribution from reaction term\n",
    "            rhs[i] += f(x[i], t, u[i]) * discretization.Δt\n",
    "            # TODO contribution from advection?\n",
    "            # contribution from spatial Laplacian\n",
    "            if (i != 1) && (i != nb_unknowns)\n",
    "                rhs[i] += λ * (u[i - 1] - 2 * u[i] + u[i + 1])\n",
    "            end\n",
    "         end\n",
    "\n",
    "         # based on boundary condition, handle first and last component of Laplacian.\n",
    "         if typeof(bc) == Neumann\n",
    "         # -4 and 4 come from making \"ghost points\" as described by Gustafson (u₀ and uₙ₊₁ are considered our ghost points)\n",
    "         # ∂ū₀ = (u₂ - u₀)/(2 * Δx) which means u₀ = -2 * Δx * ∂ū₀ + u₂\n",
    "         # substitute u₀ in the right hand side of the diffusion equation at i = 1 to get the equation below for rhs[1]\n",
    "         # by the same logic, use uₙ₊₁ = 2 * Δx * ∂ūₗ + uₙ₋₁ for the right hand side of the diffusion equation at i = end\n",
    "             rhs[1] += λ * (-4.0 * discretization.Δx * bc.∂ū₀ + 2 * u[2] - 2 * u[1])\n",
    "             rhs[end] += λ * (4.0 * discretization.Δx * bc.∂ūₗ + 2 * u[end - 1] - 2 * u[end])\n",
    "         elseif typeof(bc) == Dirichlet\n",
    "             # Simply input the known boundary condition for Dirichlet\n",
    "             rhs[1] += λ * (bc.ū₀ - 2 * u[1] + u[2])\n",
    "             rhs[end] += λ  * (u[end - 1] - 2 * u[end]  + bc.ūₗ)\n",
    "         elseif typeof(bc) == Periodic\n",
    "             # draw a circle to see.\n",
    "             # u[-1] is actually u[end] by PBCs\n",
    "             rhs[1] += λ * (u[end] - 2 * u[1] + u[2])\n",
    "             # u[end+1] is actually end\n",
    "             rhs[end] += λ * (u[end - 1] - 2 * u[end] + u[1])\n",
    "         end\n",
    "\n",
    "         # solve for u at next time step (overwrite previous)\n",
    "         u = A \\ rhs\n",
    "    end\n",
    "\n",
    "    # add in boundary conditions to Dirichlet and Periodic\n",
    "    if typeof(bc) == Dirichlet\n",
    "        # insert bc's for first and last rows\n",
    "        u_sample[1, :] = bc.ū₀\n",
    "        u_sample[end, :] = bc.ūₗ\n",
    "        # add first and last spatial step to x\n",
    "        x = vcat([0.0], x, [st.L])\n",
    "    elseif typeof(bc) == Periodic\n",
    "        # assign last row to be the same as first since Periodic bc's\n",
    "        u_sample[end, :] = u_sample[1, :]\n",
    "        # add last spatial step to x\n",
    "        push!(x, st.L)\n",
    "    end\n",
    "\n",
    "    return t_sample, x, u_sample\n",
    "\n",
    "end"
   ]
  },
  {
   "cell_type": "code",
   "execution_count": 17,
   "metadata": {},
   "outputs": [
    {
     "name": "stdout",
     "output_type": "stream",
     "text": [
      "20 points in x-discretization. dx = 0.052632\n",
      "362 points in t-discretization. dt = 0.002770\n"
     ]
    },
    {
     "data": {
      "text/plain": [
       "([0.0, 0.108033, 0.218837, 0.32964, 0.440443, 0.551247, 0.66205, 0.772853, 0.883657, 0.99446], [0.0, 0.0526316, 0.105263, 0.157895, 0.210526, 0.263158, 0.315789, 0.368421, 0.421053, 0.473684, 0.526316, 0.578947, 0.631579, 0.684211, 0.736842, 0.789474, 0.842105, 0.894737, 0.947368, 1.0], [1.0 0.346109 … 0.0015511 0.00144081; 0.986507 0.341408 … 0.00154884 0.00144005; … ; -0.136092 0.509008 … 0.848867 0.848975; 0.0 0.653891 … 0.998449 0.998559])"
      ]
     },
     "execution_count": 17,
     "metadata": {},
     "output_type": "execute_result"
    }
   ],
   "source": [
    "#Neumann BC Test\n",
    "\n",
    "# Reaction term\n",
    "g(x::Float64) = x^3\n",
    "function exact_u(x::Float64, t::Float64, D::Float64) \n",
    "    return e^(-π^2 * t) * cos(π * x) + g(x)\n",
    "end\n",
    "\n",
    "f(x::Float64, t::Float64, u::Float64) = -6 * x\n",
    "u₀(x::Float64) = cos(π * x) + g(x)\n",
    "bc = Neumann(0.0, 3.0)\n",
    "D = 1.0\n",
    "Nₓ = 100\n",
    "st = SpaceTime(1.0, 1.0)\n",
    "sample_time = 0.1\n",
    "\n",
    "t, x, u = solve_rxn_diffn_eqn(f, u₀, bc, D, Nₓ, st, sample_time)"
   ]
  },
  {
   "cell_type": "code",
   "execution_count": 16,
   "metadata": {},
   "outputs": [
    {
     "name": "stdout",
     "output_type": "stream",
     "text": [
      "100 points in x-discretization. dx = 0.010101\n",
      "9801 points in t-discretization. dt = 0.000102\n"
     ]
    },
    {
     "data": {
      "text/plain": [
       "([0.0, 0.111009, 0.22212, 0.333231, 0.444342, 0.555454, 0.666565, 0.777676, 0.888787, 0.999898], [0.0, 0.010101, 0.020202, 0.030303, 0.040404, 0.0505051, 0.0606061, 0.0707071, 0.0808081, 0.0909091  …  0.909091, 0.919192, 0.929293, 0.939394, 0.949495, 0.959596, 0.969697, 0.979798, 0.989899, 1.0], [0.0 0.0 … 0.0 0.0; 3.17279 2.83951 … 1.30456 1.16737; … ; 3.17279 2.83951 … 1.30456 1.16737; 0.0 0.0 … 0.0 0.0])"
      ]
     },
     "execution_count": 16,
     "metadata": {},
     "output_type": "execute_result"
    }
   ],
   "source": [
    "#Dirichlet BC Test\n",
    "function exact_u(x::Float64, t::Float64, D::Float64) \n",
    "        return 100 * exp(-t) * sin(π * x)\n",
    "end\n",
    "\n",
    "D = 1.0\n",
    "f(x::Float64, t::Float64, u::Float64) = 100 * (D * π^2 - 1.0) * (e ^ (-t)  * sin(π * x))\n",
    "u₀(x::Float64) = 100 * sin(π * x)\n",
    "bc = Dirichlet(0.0, 0.0)\n",
    "Nₓ = 100\n",
    "st = SpaceTime(1.0, 1.0)\n",
    "sample_time = 0.1\n",
    "\n",
    "t, x, u = solve_rxn_diffn_eqn(f, u₀, bc, D, Nₓ, st, sample_time)\n"
   ]
  },
  {
   "cell_type": "code",
   "execution_count": 19,
   "metadata": {},
   "outputs": [
    {
     "name": "stdout",
     "output_type": "stream",
     "text": [
      "20 points in x-discretization. dx = 0.052632\n",
      "362 points in t-discretization. dt = 0.002770\n"
     ]
    },
    {
     "data": {
      "text/plain": [
       "([0.0, 0.108033, 0.218837, 0.32964, 0.440443, 0.551247, 0.66205, 0.772853, 0.883657, 0.99446], [0.0, 0.0526316, 0.105263, 0.157895, 0.210526, 0.263158, 0.315789, 0.368421, 0.421053, 0.473684, 0.526316, 0.578947, 0.631579, 0.684211, 0.736842, 0.789474, 0.842105, 0.894737, 0.947368, 1.0], [6.0 5.722 … 4.14248 3.95577; 6.92384 6.63024 … 4.82588 4.61044; … ; 4.32624 4.14014 … 2.98747 2.85002; 6.0 5.722 … 4.14248 3.95577])"
      ]
     },
     "execution_count": 19,
     "metadata": {},
     "output_type": "execute_result"
    }
   ],
   "source": [
    "#Periodic BC Test\n",
    "function exact_u(x::Float64, t::Float64, D::Float64)\n",
    "    return exp(-(2 * π)^2 * D * t) * (4 * sin(2 * π * x) + 6 * cos(2 * π * x)) + x * (x - 1)\n",
    "end\n",
    "\n",
    "D = 0.01\n",
    "f(x::Float64, t::Float64, u::Float64) = -2 * D\n",
    "u₀(x::Float64) = 4 * sin(2 * π * x) + 6 * cos(2 * π * x) + x * (x - 1)\n",
    "bc = Periodic()\n",
    "Nₓ = 100\n",
    "st = SpaceTime(1.0, 1.0)\n",
    "sample_time = 0.1 \n",
    "\n",
    "t, x, u = solve_rxn_diffn_eqn(f, u₀, bc, D, Nₓ, st, sample_time)"
   ]
  },
  {
   "cell_type": "code",
   "execution_count": 7,
   "metadata": {},
   "outputs": [
    {
     "ename": "LoadError",
     "evalue": "\u001b[91mcould not spawn `ffmpeg -v 0 -i 'C:\\Users\\Rachel\\AppData\\Local\\Temp\\jl_1468.tmp/%06d.png' -vf palettegen=stats_mode=diff -y 'C:\\Users\\Rachel\\AppData\\Local\\Temp\\jl_1468.tmp/palette.bmp'`: no such file or directory (ENOENT)\u001b[39m",
     "output_type": "error",
     "traceback": [
      "\u001b[91mcould not spawn `ffmpeg -v 0 -i 'C:\\Users\\Rachel\\AppData\\Local\\Temp\\jl_1468.tmp/%06d.png' -vf palettegen=stats_mode=diff -y 'C:\\Users\\Rachel\\AppData\\Local\\Temp\\jl_1468.tmp/palette.bmp'`: no such file or directory (ENOENT)\u001b[39m",
      "",
      "Stacktrace:",
      " [1] \u001b[1m_jl_spawn\u001b[22m\u001b[22m\u001b[1m(\u001b[22m\u001b[22m::String, ::Array{String,1}, ::Ptr{Void}, ::Base.Process, ::RawFD, ::RawFD, ::RawFD\u001b[1m)\u001b[22m\u001b[22m at \u001b[1m.\\process.jl:360\u001b[22m\u001b[22m",
      " [2] \u001b[1m#376\u001b[22m\u001b[22m at \u001b[1m.\\process.jl:512\u001b[22m\u001b[22m [inlined]",
      " [3] \u001b[1msetup_stdio\u001b[22m\u001b[22m\u001b[1m(\u001b[22m\u001b[22m::Base.##376#377{Cmd}, ::Tuple{RawFD,RawFD,RawFD}\u001b[1m)\u001b[22m\u001b[22m at \u001b[1m.\\process.jl:499\u001b[22m\u001b[22m",
      " [4] \u001b[1m#spawn#375\u001b[22m\u001b[22m\u001b[1m(\u001b[22m\u001b[22m::Nullable{Base.ProcessChain}, ::Function, ::Cmd, ::Tuple{RawFD,RawFD,RawFD}\u001b[1m)\u001b[22m\u001b[22m at \u001b[1m.\\process.jl:511\u001b[22m\u001b[22m",
      " [5] \u001b[1mrun\u001b[22m\u001b[22m\u001b[1m(\u001b[22m\u001b[22m::Cmd\u001b[1m)\u001b[22m\u001b[22m at \u001b[1m.\\process.jl:650\u001b[22m\u001b[22m",
      " [6] \u001b[1m#buildanimation#330\u001b[22m\u001b[22m\u001b[1m(\u001b[22m\u001b[22m::Int64, ::Int64, ::Bool, ::Bool, ::Function, ::String, ::String, ::Bool\u001b[1m)\u001b[22m\u001b[22m at \u001b[1mC:\\Users\\Rachel\\Julia\\pkgs-0.6.2.1\\v0.6\\Plots\\src\\animation.jl:82\u001b[22m\u001b[22m",
      " [7] \u001b[1m#gif#327\u001b[22m\u001b[22m\u001b[1m(\u001b[22m\u001b[22m::Array{Any,1}, ::Function, ::Plots.Animation, ::String\u001b[1m)\u001b[22m\u001b[22m at \u001b[1mC:\\Users\\Rachel\\Julia\\pkgs-0.6.2.1\\v0.6\\Plots\\src\\animation.jl:63\u001b[22m\u001b[22m",
      " [8] \u001b[1mgif\u001b[22m\u001b[22m\u001b[1m(\u001b[22m\u001b[22m::Plots.Animation\u001b[1m)\u001b[22m\u001b[22m at \u001b[1mC:\\Users\\Rachel\\Julia\\pkgs-0.6.2.1\\v0.6\\Plots\\src\\animation.jl:63\u001b[22m\u001b[22m",
      " [9] \u001b[1mmacro expansion\u001b[22m\u001b[22m at \u001b[1mC:\\Users\\Rachel\\Julia\\pkgs-0.6.2.1\\v0.6\\Plots\\src\\animation.jl:156\u001b[22m\u001b[22m [inlined]",
      " [10] \u001b[1manonymous\u001b[22m\u001b[22m at \u001b[1m.\\<missing>:?\u001b[22m\u001b[22m",
      " [11] \u001b[1minclude_string\u001b[22m\u001b[22m\u001b[1m(\u001b[22m\u001b[22m::String, ::String\u001b[1m)\u001b[22m\u001b[22m at \u001b[1m.\\loading.jl:522\u001b[22m\u001b[22m"
     ]
    }
   ],
   "source": [
    "using Plots\n",
    "\n",
    "# Making gif to compare exact equation and rxn_diffn_equ\n",
    "Nₜ = ceil(Int, st.tf / sample_time)\n",
    "\n",
    "@gif for i = 1:Nₜ\n",
    "    scatter(x,u[:,i], ylim=(1.05*minimum(u), 1.05*maximum(u)), label=\"numerical\", xlabel=\"x\", ylabel=\"u\", title=@sprintf(\"t = %.2f\", t[i]))\n",
    "    plot!(x, exact_u.(x,t[i],D), label=\"exact\")\n",
    "end "
   ]
  },
  {
   "cell_type": "code",
   "execution_count": 17,
   "metadata": {},
   "outputs": [
    {
     "data": {
      "text/plain": [
       "draw_heat_map"
      ]
     },
     "execution_count": 17,
     "metadata": {},
     "output_type": "execute_result"
    }
   ],
   "source": [
    "# Use this to make heat maps\n",
    "import PyPlot; const plt = PyPlot\n",
    "\"\"\"\n",
    "Creates heat map based on x, t, u\n",
    "\"\"\"\n",
    "function draw_heat_map(x, t, u)\n",
    "    Nₜ = length(t)\n",
    "    Nₓ = length(x)\n",
    "    \n",
    "    X = similar(transpose(u))\n",
    "    T = similar(transpose(u))\n",
    "\n",
    "    for i = 1:Nₜ\n",
    "        X[i,:] = x\n",
    "    end\n",
    "\n",
    "    for i = 1:Nₓ\n",
    "        T[:,i] = t\n",
    "    end\n",
    "\n",
    "    plt.figure()\n",
    "    plt.pcolormesh(X,T, transpose(u))\n",
    "    plt.xlabel(\"x\")\n",
    "    plt.ylabel(\"t\")\n",
    "    plt.colorbar(label=\"Concentration of A\")\n",
    "    plt.savefig(\"heatmap.png\")\n",
    "    if typeof(bc) == Neumann\n",
    "        plt.title(\"Neumann Boundary Conditions\")\n",
    "    elseif typeof(bc) == Dirichlet\n",
    "        plt.title(\"Dirichlet Boundary Conditions\")\n",
    "    elseif typeof(bc) == Periodic\n",
    "        plt.title(\"Periodic Boundary Conditions\")\n",
    "    end\n",
    "    \n",
    "end "
   ]
  },
  {
   "cell_type": "code",
   "execution_count": 19,
   "metadata": {},
   "outputs": [
    {
     "data": {
      "text/plain": [
       "create_exact_u (generic function with 1 method)"
      ]
     },
     "execution_count": 19,
     "metadata": {},
     "output_type": "execute_result"
    }
   ],
   "source": [
    "function create_exact_u(t, x, exact_u, D)\n",
    "    Nₜ = length(t)\n",
    "    Nₓ = length(x)\n",
    "    u_e = zeros(Float64, Nₓ, Nₜ)\n",
    "    for i = 1:Nₓ\n",
    "        for j = 1:Nₜ\n",
    "            u_e[i,j] = exact_u(x[i], t[j], D)\n",
    "        end\n",
    "    end\n",
    "    return u_e\n",
    "end"
   ]
  },
  {
   "cell_type": "code",
   "execution_count": 20,
   "metadata": {},
   "outputs": [
    {
     "data": {
      "text/plain": [
       "100×10 Array{Float64,2}:\n",
       "  0.0           0.0           0.0          …   0.0           0.0        \n",
       "  3.17279       2.83943       2.54083          1.30451       1.16732    \n",
       "  6.34239       5.676         5.07911          2.6077        2.33347    \n",
       "  9.5056        8.50686       7.61227          3.90827       3.49727    \n",
       " 12.6592       11.3291       10.1378           5.2049        4.65755    \n",
       " 15.8001       14.14         12.6531       …   6.49629       5.81314    \n",
       " 18.9251       16.9367       15.1556           7.78115       6.96287    \n",
       " 22.0311       19.7163       17.6429           9.05816       8.1056     \n",
       " 25.1148       22.476        20.1124          10.3261        9.24016    \n",
       " 28.1733       25.2131       22.5617          11.5836       10.3654     \n",
       " 31.2033       27.9248       24.9882       …  12.8294       11.4802     \n",
       " 34.202        30.6084       27.3896          14.0623       12.5835     \n",
       " 37.1662       33.2612       29.7634          15.2811       13.6741     \n",
       "  ⋮                                        ⋱                            \n",
       " 34.202        30.6084       27.3896          14.0623       12.5835     \n",
       " 31.2033       27.9248       24.9882          12.8294       11.4802     \n",
       " 28.1733       25.2131       22.5617       …  11.5836       10.3654     \n",
       " 25.1148       22.476        20.1124          10.3261        9.24016    \n",
       " 22.0311       19.7163       17.6429           9.05816       8.1056     \n",
       " 18.9251       16.9367       15.1556           7.78115       6.96287    \n",
       " 15.8001       14.14         12.6531           6.49629       5.81314    \n",
       " 12.6592       11.3291       10.1378       …   5.2049        4.65755    \n",
       "  9.5056        8.50686       7.61227          3.90827       3.49727    \n",
       "  6.34239       5.676         5.07911          2.6077        2.33347    \n",
       "  3.17279       2.83943       2.54083          1.30451       1.16732    \n",
       "  1.22465e-14   1.09597e-14   9.80721e-15      5.03519e-15   4.50568e-15"
      ]
     },
     "execution_count": 20,
     "metadata": {},
     "output_type": "execute_result"
    }
   ],
   "source": [
    "u_e = create_exact_u(t, x, exact_u, D)"
   ]
  },
  {
   "cell_type": "code",
   "execution_count": 18,
   "metadata": {},
   "outputs": [
    {
     "data": {
      "image/png": "[encoded data removed]",
      "text/plain": [
       "PyPlot.Figure(PyObject <matplotlib.figure.Figure object at 0x000000002D966978>)"
      ]
     },
     "metadata": {},
     "output_type": "display_data"
    },
    {
     "data": {
      "text/plain": [
       "PyObject <matplotlib.text.Text object at 0x000000002DA01A20>"
      ]
     },
     "execution_count": 18,
     "metadata": {},
     "output_type": "execute_result"
    }
   ],
   "source": [
    "# Making heat map based off of calulated u\n",
    "draw_heat_map(x, t, u)"
   ]
  },
  {
   "cell_type": "code",
   "execution_count": 21,
   "metadata": {},
   "outputs": [
    {
     "data": {
      "image/png": "[encoded data removed]",
      "text/plain": [
       "PyPlot.Figure(PyObject <matplotlib.figure.Figure object at 0x00000000105A5E80>)"
      ]
     },
     "metadata": {},
     "output_type": "display_data"
    },
    {
     "data": {
      "text/plain": [
       "PyObject <matplotlib.text.Text object at 0x000000002DBF9588>"
      ]
     },
     "execution_count": 21,
     "metadata": {},
     "output_type": "execute_result"
    }
   ],
   "source": [
    "draw_heat_map(x, t, u_e)"
   ]
  },
  {
   "cell_type": "code",
   "execution_count": 22,
   "metadata": {},
   "outputs": [
    {
     "data": {
      "text/plain": [
       "100×10 Array{Float64,2}:\n",
       "  0.0       0.0       0.0       0.0      …   0.0       0.0       0.0    \n",
       "  3.17279   2.83951   2.54093   2.27373      1.45787   1.30456   1.16737\n",
       "  6.34239   5.67615   5.07929   4.54517      2.91428   2.60781   2.33357\n",
       "  9.5056    8.50708   7.61255   6.81203      4.36775   3.90844   3.49742\n",
       " 12.6592   11.3294   10.1381    9.07204      5.81682   5.20512   4.65775\n",
       " 15.8001   14.1404   12.6535   11.3229   …   7.26004   6.49657   5.81339\n",
       " 18.9251   16.9371   15.1562   13.5624       8.69595   7.78147   6.96317\n",
       " 22.0311   19.7168   17.6435   15.7882      10.1231    9.05854   8.10594\n",
       " 25.1148   22.4766   20.1131   17.9981      11.5401   10.3265    9.24055\n",
       " 28.1733   25.2138   22.5625   20.1899      12.9454   11.584    10.3659 \n",
       " 31.2033   27.9256   24.9891   22.3614   …  14.3377   12.8299   11.4807 \n",
       " 34.202    30.6092   27.3906   24.5103      15.7156   14.0629   12.584  \n",
       " 37.1662   33.2621   29.7645   26.6346      17.0776   15.2817   13.6747 \n",
       "  ⋮                                      ⋱                              \n",
       " 34.202    30.6092   27.3906   24.5103      15.7156   14.0629   12.584  \n",
       " 31.2033   27.9256   24.9891   22.3614      14.3377   12.8299   11.4807 \n",
       " 28.1733   25.2138   22.5625   20.1899   …  12.9454   11.584    10.3659 \n",
       " 25.1148   22.4766   20.1131   17.9981      11.5401   10.3265    9.24055\n",
       " 22.0311   19.7168   17.6435   15.7882      10.1231    9.05854   8.10594\n",
       " 18.9251   16.9371   15.1562   13.5624       8.69595   7.78147   6.96317\n",
       " 15.8001   14.1404   12.6535   11.3229       7.26004   6.49657   5.81339\n",
       " 12.6592   11.3294   10.1381    9.07204  …   5.81682   5.20512   4.65775\n",
       "  9.5056    8.50708   7.61255   6.81203      4.36775   3.90844   3.49742\n",
       "  6.34239   5.67615   5.07929   4.54517      2.91428   2.60781   2.33357\n",
       "  3.17279   2.83951   2.54093   2.27373      1.45787   1.30456   1.16737\n",
       "  0.0       0.0       0.0       0.0          0.0       0.0       0.0    "
      ]
     },
     "execution_count": 22,
     "metadata": {},
     "output_type": "execute_result"
    }
   ],
   "source": [
    "u"
   ]
  },
  {
   "cell_type": "code",
   "execution_count": 23,
   "metadata": {},
   "outputs": [
    {
     "data": {
      "text/plain": [
       "100×10 Array{Float64,2}:\n",
       "  0.0           0.0           0.0          …   0.0           0.0        \n",
       "  3.17279       2.83943       2.54083          1.30451       1.16732    \n",
       "  6.34239       5.676         5.07911          2.6077        2.33347    \n",
       "  9.5056        8.50686       7.61227          3.90827       3.49727    \n",
       " 12.6592       11.3291       10.1378           5.2049        4.65755    \n",
       " 15.8001       14.14         12.6531       …   6.49629       5.81314    \n",
       " 18.9251       16.9367       15.1556           7.78115       6.96287    \n",
       " 22.0311       19.7163       17.6429           9.05816       8.1056     \n",
       " 25.1148       22.476        20.1124          10.3261        9.24016    \n",
       " 28.1733       25.2131       22.5617          11.5836       10.3654     \n",
       " 31.2033       27.9248       24.9882       …  12.8294       11.4802     \n",
       " 34.202        30.6084       27.3896          14.0623       12.5835     \n",
       " 37.1662       33.2612       29.7634          15.2811       13.6741     \n",
       "  ⋮                                        ⋱                            \n",
       " 34.202        30.6084       27.3896          14.0623       12.5835     \n",
       " 31.2033       27.9248       24.9882          12.8294       11.4802     \n",
       " 28.1733       25.2131       22.5617       …  11.5836       10.3654     \n",
       " 25.1148       22.476        20.1124          10.3261        9.24016    \n",
       " 22.0311       19.7163       17.6429           9.05816       8.1056     \n",
       " 18.9251       16.9367       15.1556           7.78115       6.96287    \n",
       " 15.8001       14.14         12.6531           6.49629       5.81314    \n",
       " 12.6592       11.3291       10.1378       …   5.2049        4.65755    \n",
       "  9.5056        8.50686       7.61227          3.90827       3.49727    \n",
       "  6.34239       5.676         5.07911          2.6077        2.33347    \n",
       "  3.17279       2.83943       2.54083          1.30451       1.16732    \n",
       "  1.22465e-14   1.09597e-14   9.80721e-15      5.03519e-15   4.50568e-15"
      ]
     },
     "execution_count": 23,
     "metadata": {},
     "output_type": "execute_result"
    }
   ],
   "source": [
    "u_e"
   ]
  },
  {
   "cell_type": "code",
   "execution_count": 24,
   "metadata": {
    "collapsed": true
   },
   "outputs": [],
   "source": [
    "#Further shows the calculated u is correct\n",
    "@assert(isapprox(u, u_e, rtol=.001), \"Matrices are not equivalent.\")"
   ]
  },
  {
   "cell_type": "code",
   "execution_count": null,
   "metadata": {
    "collapsed": true
   },
   "outputs": [],
   "source": []
  }
 ],
 "metadata": {
  "kernelspec": {
   "display_name": "Julia 0.6.2",
   "language": "julia",
   "name": "julia-0.6"
  },
  "language_info": {
   "file_extension": ".jl",
   "mimetype": "application/julia",
   "name": "julia",
   "version": "0.6.2"
  }
 },
 "nbformat": 4,
 "nbformat_minor": 2
}
