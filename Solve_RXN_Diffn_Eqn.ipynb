{
 "cells": [
  {
   "cell_type": "markdown",
   "metadata": {},
   "source": [
    "In this program we will solve a reaction diffusion equation based on your input. \n",
    "The equation we work with is as follows:"
   ]
  },
  {
   "cell_type": "markdown",
   "metadata": {},
   "source": [
    "# Diffusion equation: \n",
    "\\begin{equation}\n",
    "    u_{i,k+1} - D(\\Delta t)\\frac{u_{i-1,k+1}-2u_{i,k+1}+u_{i+1,k+1}}{2(\\Delta x)^2}\n",
    "    = u_{i,k} + D(\\Delta t)\\frac{u_{i-1,k}-2u_{i,k}+u_{i+1,k}}{2(\\Delta x)^2} + (\\Delta t)f(x_i,t_k,u_{i,k})\n",
    "\\end{equation}"
   ]
  },
  {
   "cell_type": "code",
   "execution_count": 2,
   "metadata": {
    "collapsed": true
   },
   "outputs": [],
   "source": [
    "using Plots"
   ]
  },
  {
   "cell_type": "code",
   "execution_count": 6,
   "metadata": {
    "collapsed": true
   },
   "outputs": [],
   "source": [
    "abstract type BoundaryCondition\n",
    "end\n",
    "\n",
    "type Dirichlet <: BoundaryCondition \n",
    "    ū₀::Float64\n",
    "    ūₗ::Float64\n",
    "end\n",
    "\n",
    "type Neumann <: BoundaryCondition\n",
    "    ∂ū₀::Float64\n",
    "    ∂ūₗ::Float64\n",
    "end \n",
    "\n",
    "type Periodic <: BoundaryCondition \n",
    "end "
   ]
  },
  {
   "cell_type": "code",
   "execution_count": 7,
   "metadata": {
    "collapsed": true
   },
   "outputs": [],
   "source": [
    "type Discretization\n",
    "    Nₓ::Int64\n",
    "    Δx::Float64\n",
    "    Nₜ::Int64\n",
    "    Δt::Float64\n",
    "end \n",
    "\n",
    "type SpaceTime\n",
    "    L::Float64\n",
    "    tf::Float64\n",
    "end"
   ]
  },
  {
   "cell_type": "code",
   "execution_count": 8,
   "metadata": {},
   "outputs": [
    {
     "data": {
      "text/plain": [
       "nb_spatial_unknowns"
      ]
     },
     "execution_count": 8,
     "metadata": {},
     "output_type": "execute_result"
    }
   ],
   "source": [
    "\"\"\"\n",
    "Determine the number of spatial unknowns at each time step.\n",
    "\"\"\"\n",
    "function nb_spatial_unknowns(discretization::Discretization, bc::BoundaryCondition)\n",
    "    if typeof(bc) == Neumann\n",
    "        return discretization.Nₓ\n",
    "    elseif typeof(bc) == Dirichlet\n",
    "        return discretization.Nₓ - 2\n",
    "    elseif typeof(bc) == Periodic\n",
    "        return discretization.Nₓ - 1\n",
    "    end\n",
    "end"
   ]
  },
  {
   "cell_type": "code",
   "execution_count": 9,
   "metadata": {},
   "outputs": [
    {
     "data": {
      "text/plain": [
       "build_tri_diagonal_matrix (generic function with 1 method)"
      ]
     },
     "execution_count": 9,
     "metadata": {},
     "output_type": "execute_result"
    }
   ],
   "source": [
    "function build_tri_diagonal_matrix(discretization::Discretization, λ::Float64, bc::BoundaryCondition)\n",
    "    # determine number of unknowns based on boundary condition\n",
    "    matrix_dim = nb_spatial_unknowns(discretization, bc)\n",
    "    \n",
    "    A = zeros(matrix_dim, matrix_dim)\n",
    "    \n",
    "    for i = 1:matrix_dim\n",
    "        A[i, i] = 1 + 2 * λ\n",
    "    end\n",
    "        \n",
    "    for i = 1:matrix_dim - 1\n",
    "        A[i  , i+1] = -λ\n",
    "        A[i+1, i  ] = -λ\n",
    "    end\n",
    "    \n",
    "    if typeof(bc) == Periodic\n",
    "        A[1, end] = -λ\n",
    "        A[end, 1] = -λ\n",
    "    end\n",
    "        \n",
    "    if typeof(bc) == Neumann\n",
    "        A[1, 2] = -2 * λ\n",
    "        A[end, end - 1] = -2 * λ\n",
    "    end \n",
    "    \n",
    "    return A\n",
    "        \n",
    "end"
   ]
  },
  {
   "cell_type": "code",
   "execution_count": 10,
   "metadata": {
    "scrolled": true
   },
   "outputs": [
    {
     "ename": "LoadError",
     "evalue": "\u001b[91msyntax: invalid character \"̄\"\u001b[39m",
     "output_type": "error",
     "traceback": [
      "\u001b[91msyntax: invalid character \"̄\"\u001b[39m",
      ""
     ]
    }
   ],
   "source": [
    "\"\"\"\n",
    "\n",
    "Arguments:\n",
    "* f: reaction term f(x, t, u)\n",
    "* u₀: initial condition u₀(x)\n",
    "* bc::BoundaryCondition: boundary condition\n",
    "* D::Float64: diffusion coefficient\n",
    "* Nₓ::Int: number of spatial discretization points\n",
    "* st::SpaceTime: space-time over which solution to PDE is approximated\n",
    "\"\"\"\n",
    "function solve_rxn_diffn_eqn(f, u₀, bc::BoundaryCondition, D::Float64, Nₓ::Int, st::SpaceTime)\n",
    "    # compute Δx, Nₜ, Δt below.\n",
    "    discretization = Discretization(Nₓ, NaN, 0, NaN)\n",
    "    \n",
    "    # ensure that the boundary condition is consistent with the initial condition\n",
    "    if isa(bc, Dirichlet)\n",
    "        @assert(bc.ū₀ ≈ u₀(0.0), \n",
    "            \"The initial condition is inconsistent with Dirichlet boundary condition.\")\n",
    "        @assert(bc.ūₗ ≈ u₀(st.L), \n",
    "            \"The initial condition is inconsistent with Dirichlet boundary condition.\")\n",
    "    elseif isa(bc, Periodic)\n",
    "        @assert(u₀(0) ≈ u₀(st.L), \n",
    "            \"The initial condition is inconsistent with periodic boundary conditions.\")\n",
    "    elseif isa(bc, Neumann)\n",
    "        #TODO\n",
    "    end\n",
    "    \n",
    "    # discretize space.\n",
    "    x = collect(linspace(0, st.L, discretization.Nₓ)) # includes end points!\n",
    "    discretization.Δx = x[2] - x[1]\n",
    "    @printf(\"%d points in x-discretization. dx = %f\\n\", discretization.Nₓ, discretization.Δx)\n",
    "\n",
    "    # discreteize time.\n",
    "    discretization.Δt = discretization.Δx ^ 2\n",
    "    discretization.Nₜ = ceil(Int, st.tf / discretization.Δt)\n",
    "    @printf(\"%d points in t-discretization. dt = %f\\n\", discretization.Nₜ, discretization.Δt)\n",
    "    \n",
    "    # nondimensional parameter involved in discreteization\n",
    "    λ = (D * discretization.Δt) / (2 * (discretization.Δx) ^ 2)\n",
    "    \n",
    "    # build tri-diagonal matrix\n",
    "    A = build_tri_diagonal_matrix(discretization, λ, bc)\n",
    "    \n",
    "    nb_unknowns = nb_spatial_unknowns(discretization, bc)\n",
    "    \n",
    "    # initialize u at k = 0\n",
    "    # this u is the value of u(x, t) when t = k - 1 over discretized x points.\n",
    "    u = u₀.(x)\n",
    "    \n",
    "    # trim u and x so that i index corresponds to xᵢ and uᵢ,ₖ\n",
    "    if typeof(bc) == Neumann\n",
    "        # all are unknown, no trimming required\n",
    "    elseif typeof(bc) == Dirichlet\n",
    "        u = u[2:end-1]\n",
    "        x = x[2:end-1]\n",
    "    elseif typeof(bc) == Periodic\n",
    "        u = u[1:end-1]\n",
    "        x = x[1:end-1]\n",
    "    end\n",
    "    @assert(length(u) == nb_unknowns)\n",
    "    @assert(length(x) == nb_unknowns)\n",
    "    \n",
    "    # initialize right-hand side of matrix eqn. solved at each time step.\n",
    "    rhs = zeros(Float64, nb_unknowns)\n",
    "\n",
    "    # take time steps.\n",
    "    for k = 1:discretization.Nₜ\n",
    "        # time here, inside the loop\n",
    "        t = Δt * k\n",
    "        \n",
    "        # build right-hand side vector of matrix eqn.\n",
    "        for i = 1:nb_unknowns\n",
    "            # contribution from first order discretization of time derivative\n",
    "            rhs[i] = u[i]\n",
    "            # contribution from reaction term\n",
    "            rhs[i] += f(x[i], t, u[i]) * discretization.Δt\n",
    "            # TODO contribution from advection \n",
    "            # contribution from spatial Laplacian\n",
    "            if (i != 1) && (i != nb_unknowns)\n",
    "                rhs[i] += λ * (u[i - 1] - 2 * u[i] + u[i + 1])\n",
    "            end\n",
    "        end\n",
    "        \n",
    "        # based on boundary condition, handle first and last component of Laplacian.\n",
    "        if typeof(bc) == Neumann\n",
    "            rhs[1] += λ * (-4.0 * discretization.Δx * bc.∂ū₀ + 2 * u[2] - 2 * u[1])\n",
    "            rhs[end] += # TODO\n",
    "        elseif typeof(bc) == Dirichlet\n",
    "            # Simply input the known boundary condition for Dirichlet\n",
    "            rhs[1] += λ * (bc.ū₀ - 2 * u[1] + u[2])\n",
    "            rhs[end] += λ * (u[end - 1] - 2 * u[end] + bc.̄uₗ)\n",
    "        elseif typeof(bc) == Periodic\n",
    "            # draw a circle to see.\n",
    "            # u[-1] is actually u[end] by PBCs\n",
    "            rhs[1] += λ * (u[end] - 2 * u[1] + u[2])\n",
    "            # u[end+1] is actually end\n",
    "            rhs[end] += λ * (u[end - 1] - 2 * u[end] + u[1])\n",
    "        end\n",
    "        # solve for u at next time step (overwrite previous)\n",
    "        u = A \\rhs\n",
    "        \n",
    "        # TODO store u and t every so often so we can plot.\n",
    "    end\n",
    "       \n",
    "    ## Making right hand side to fill in the rest of u ##\n",
    "    if typeof(bc) == Dirichlet\n",
    "        u[1,:] = bc.ū₀\n",
    "        u[end,:] = bc.ūₗ\n",
    "        rhs = zeros(Float64, discretization.Nₓ - 2)\n",
    "        for k = 2:discretization.Nₜ #this is the column of the u array, not the tₖ  \n",
    "            for i = 2:(discretization.Nₓ - 1) \n",
    "                rhs[i-1] = λ * (u[i - 1, k - 1] - 2 * u[i, k - 1] + u[i + 1, k - 1]) + \n",
    "                f(x[i], t[k - 1], u[i, k - 1]) * discretization.Δt + u[i, k - 1] \n",
    "            end\n",
    "        u[2:end-1, k] = A \\ rhs       #Au = rhs\n",
    "        end\n",
    "    end\n",
    "    \n",
    "    if typeof(bc) == Periodic \n",
    "        rhs = zeros(Float64, discretization.Nₓ - 1)\n",
    "         for k = 2:discretization.Nₜ #this is the column of the u array, not the tₖ  \n",
    "            for i = 1:(discretization.Nₓ - 1) \n",
    "                if (i == 1)\n",
    "                    rhs[i] = λ * (u[Nₓ - 1, k - 1] - 2 * u[i, k - 1] + u[i + 1, k - 1]) + f(x[i], t[k - 1], u[i, k - 1]) * discretization.Δt + u[i, k - 1] \n",
    "                else\n",
    "                    rhs[i] = λ * (u[i - 1, k - 1] - 2 * u[i, k - 1] + u[i + 1, k - 1]) + f(x[i], t[k - 1], u[i, k - 1]) * discretization.Δt + u[i, k - 1]\n",
    "                end\n",
    "            end\n",
    "        u[2:end, k] = A \\ rhs       #Au = rhs\n",
    "        end\n",
    "    end\n",
    "     \n",
    "    \n",
    "    if typeof(bc) == Neumann \n",
    "        rhs = zeros(Float64, discretization.Nₓ)\n",
    "        for k = 2:discretization.Nₜ #this is the column of the u array, not the tₖ  \n",
    "            for i = 1:(discretization.Nₓ) \n",
    "                if (i == 1)\n",
    "                    rhs[i] = λ * ((-4 * discretization.Δx * bc.∂ū₀) + 2*u[i + 1, k - 1] - 2 * u[i, k - 1]) + f(x[i], t[k - 1], u[i, k - 1]) * discretization.Δt + u[i, k - 1]\n",
    "                elseif (i == discretization.Nₓ)\n",
    "                    rhs[i] = λ * ((4 * discretization.Δx * bc.∂ūₗ) + 2*u[i - 1, k - 1] - 2 * u[i, k - 1])  + f(x[i], t[k - 1], u[i, k - 1]) * discretization.Δt + u[i, k - 1]\n",
    "                else\n",
    "                    rhs[i] = λ * (u[i - 1] - 2 * u[i] + u[i + 1]) + f(x[i], t, u[i]) * discretization.Δt + u[i, k - 1]\n",
    "                end\n",
    "            end\n",
    "        u[:, k] = A \\ rhs       #Au = rhs\n",
    "        end\n",
    "\n",
    "    end \n",
    "    \n",
    "        \n",
    "    return t, x, u \n",
    "    \n",
    "end "
   ]
  },
  {
   "cell_type": "markdown",
   "metadata": {
    "slideshow": {
     "slide_type": "fragment"
    }
   },
   "source": [
    "Enter the following: \n",
    "\n",
    "Reaction Term (f(x, t, u))\n",
    "\n",
    "Initial Condition (u₀)\n",
    "\n",
    "Boundary Conditions (ū₀ and ūₗ)\n",
    "\n",
    "Diffusion Coefficient (D)\n",
    "\n",
    "Number of Spacial Steps (Nₓ)\n",
    "\n",
    "Length of Simulation (tf) - should be space time?"
   ]
  },
  {
   "cell_type": "code",
   "execution_count": 5,
   "metadata": {},
   "outputs": [
    {
     "data": {
      "text/plain": [
       "#f"
      ]
     },
     "execution_count": 5,
     "metadata": {},
     "output_type": "execute_result"
    }
   ],
   "source": [
    "#Neumann BC Test\n",
    "\n",
    "g(x::Float64) = x^3\n",
    "\n",
    "function exact_u(x::Float64, t::Float64) \n",
    "    return e^(-π^2 * t) * cos(π * x) + g(x)\n",
    "end\n",
    "\n",
    "f(x::Float64, t::Float64, u::Float64) = -g(x)\n",
    "u₀(x::Float64) = cos(π * x) + g(x)"
   ]
  },
  {
   "cell_type": "code",
   "execution_count": 6,
   "metadata": {},
   "outputs": [
    {
     "name": "stdout",
     "output_type": "stream",
     "text": [
      "20 points in x-discretization. dx = 0.052632\n",
      "362 points in t-discretization. dt = 0.002770\n"
     ]
    },
    {
     "data": {
      "text/plain": [
       "([0.0, 0.00277008, 0.00554017, 0.00831025, 0.0110803, 0.0138504, 0.0166205, 0.0193906, 0.0221607, 0.0249307  …  0.975069, 0.977839, 0.980609, 0.98338, 0.98615, 0.98892, 0.99169, 0.99446, 0.99723, 1.0], [0.0, 0.0526316, 0.105263, 0.157895, 0.210526, 0.263158, 0.315789, 0.368421, 0.421053, 0.473684, 0.526316, 0.578947, 0.631579, 0.684211, 0.736842, 0.789474, 0.842105, 0.894737, 0.947368, 1.0], [1.0 0.973762 … 2.52526 2.53288; 0.986507 0.961017 … 2.52907 2.53669; … ; -0.136092 -0.0962921 … 3.79685 3.80447; 0.0 0.0403178 … 3.94956 3.95717])"
      ]
     },
     "execution_count": 6,
     "metadata": {},
     "output_type": "execute_result"
    }
   ],
   "source": [
    "bc = Neumann(0.0, 3.0)\n",
    "D = 1.0\n",
    "Nₓ = 20\n",
    "st = SpaceTime(1.0, 1.0)\n",
    "\n",
    "t, x, u = solve_rxn_diffn_eqn(f, u₀, bc, D, Nₓ, st)"
   ]
  },
  {
   "cell_type": "code",
   "execution_count": 8,
   "metadata": {},
   "outputs": [
    {
     "name": "stdout",
     "output_type": "stream",
     "text": [
      "20 points in x-discretization. dx = 0.052632\n",
      "362 points in t-discretization. dt = 0.002770\n"
     ]
    },
    {
     "data": {
      "text/plain": [
       "([0.0, 0.00277008, 0.00554017, 0.00831025, 0.0110803, 0.0138504, 0.0166205, 0.0193906, 0.0221607, 0.0249307  …  0.975069, 0.977839, 0.980609, 0.98338, 0.98615, 0.98892, 0.99169, 0.99446, 0.99723, 1.0], [0.0, 0.0526316, 0.105263, 0.157895, 0.210526, 0.263158, 0.315789, 0.368421, 0.421053, 0.473684, 0.526316, 0.578947, 0.631579, 0.684211, 0.736842, 0.789474, 0.842105, 0.894737, 0.947368, 1.0], [0.0 0.0 … 0.0 0.0; 16.4595 16.4155 … 6.09574 6.07888; … ; 16.4595 16.4155 … 6.09574 6.07888; 0.0 0.0 … 0.0 0.0])"
      ]
     },
     "execution_count": 8,
     "metadata": {},
     "output_type": "execute_result"
    }
   ],
   "source": [
    "#Dirichlet BC Test\n",
    "function exact_u(x::Float64, t::Float64) \n",
    "        return 100 * exp(-t) * sin(π * x) #exp(-2 * t) * sin(5 * π * x) #Let L = 1\n",
    "end\n",
    "\n",
    "f(x::Float64, t::Float64, u::Float64) = 100 * (D * π^2 - 1.0) * (e ^ (-t)  * sin(π * x))\n",
    "u₀(x::Float64) = 100 * sin(π * x)\n",
    "\n",
    "bc = Dirichlet(0.0,0.0)\n",
    "D = 1.0\n",
    "Nₓ = 20\n",
    "st = SpaceTime(1.0, 1.0)\n",
    "\n",
    "t, x, u = solve_rxn_diffn_eqn(f, u₀, bc, D, Nₓ, st)"
   ]
  },
  {
   "cell_type": "code",
   "execution_count": 7,
   "metadata": {},
   "outputs": [
    {
     "ename": "LoadError",
     "evalue": "\u001b[91mUndefVarError: tf not defined\u001b[39m",
     "output_type": "error",
     "traceback": [
      "\u001b[91mUndefVarError: tf not defined\u001b[39m",
      "",
      "Stacktrace:",
      " [1] \u001b[1minclude_string\u001b[22m\u001b[22m\u001b[1m(\u001b[22m\u001b[22m::String, ::String\u001b[1m)\u001b[22m\u001b[22m at \u001b[1m.\\loading.jl:522\u001b[22m\u001b[22m"
     ]
    }
   ],
   "source": [
    " ## Making gif to compare exact equation and rxn_diffn_equ ##\n",
    "\n",
    "Nₜ=ceil(Int, tf / Δt)\n",
    "\n",
    "@gif for i = 1:200:Nₜ\n",
    "    scatter(x,u[:,i], ylim=(0,100), label=\"numerical\", xlabel=\"x\", ylabel=\"u\", title=@sprintf(\"t = %.2f\", t[i]))\n",
    "    plot!(x, exact_u.(x,t[i]), label=\"exact\")\n",
    "end "
   ]
  },
  {
   "cell_type": "code",
   "execution_count": 9,
   "metadata": {},
   "outputs": [
    {
     "data": {
      "text/plain": [
       "PyPlot"
      ]
     },
     "execution_count": 9,
     "metadata": {},
     "output_type": "execute_result"
    }
   ],
   "source": [
    "import PyPlot; const plt = PyPlot"
   ]
  },
  {
   "cell_type": "code",
   "execution_count": 10,
   "metadata": {},
   "outputs": [
    {
     "data": {
      "image/png": "[encoded data removed]",
      "text/plain": [
       "PyPlot.Figure(PyObject <matplotlib.figure.Figure object at 0x000000000447DC18>)"
      ]
     },
     "metadata": {},
     "output_type": "display_data"
    },
    {
     "data": {
      "text/plain": [
       "PyObject <matplotlib.colorbar.Colorbar object at 0x000000002FD34BE0>"
      ]
     },
     "execution_count": 10,
     "metadata": {},
     "output_type": "execute_result"
    }
   ],
   "source": [
    "## Create a heat map ##\n",
    "Nₜ = length(t)\n",
    "\n",
    "\n",
    "X = similar(transpose(u))\n",
    "T = similar(transpose(u))\n",
    "\n",
    "for i = 1:Nₜ\n",
    "    X[i,:] = x\n",
    "end\n",
    "\n",
    "for i = 1:Nₓ\n",
    "    T[:,i] = t\n",
    "end\n",
    "\n",
    "plt.figure()\n",
    "plt.pcolormesh(X,T, transpose(u))\n",
    "plt.xlabel(\"x\")\n",
    "plt.ylabel(\"t\")\n",
    "plt.colorbar(label=\"Concentration of A\")"
   ]
  },
  {
   "cell_type": "code",
   "execution_count": 12,
   "metadata": {},
   "outputs": [
    {
     "data": {
      "text/plain": [
       "draw_heat_map (generic function with 1 method)"
      ]
     },
     "execution_count": 12,
     "metadata": {},
     "output_type": "execute_result"
    }
   ],
   "source": [
    "u_e = zeros(Float64, Nₓ, Nₜ)\n",
    "for i = 1:Nₓ \n",
    "    for j = 1:Nₜ\n",
    "        u_e[i,j] = exact_u(x[i], t[j])\n",
    "    end\n",
    "end\n",
    "\n",
    "function draw_heat_map(x, t, u)\n",
    "    Nₜ = length(t)\n",
    "\n",
    "    X = similar(transpose(u))\n",
    "    T = similar(transpose(u))\n",
    "\n",
    "    for i = 1:Nₜ\n",
    "        X[i,:] = x\n",
    "    end\n",
    "\n",
    "    for i = 1:Nₓ\n",
    "        T[:,i] = t\n",
    "    end\n",
    "\n",
    "    plt.figure()\n",
    "    plt.pcolormesh(X,T, transpose(u))\n",
    "    plt.xlabel(\"x\")\n",
    "    plt.ylabel(\"t\")\n",
    "    plt.colorbar(label=\"Concentration of A\")\n",
    "end "
   ]
  },
  {
   "cell_type": "code",
   "execution_count": 13,
   "metadata": {},
   "outputs": [
    {
     "data": {
      "image/png": "[encoded data removed]",
      "text/plain": [
       "PyPlot.Figure(PyObject <matplotlib.figure.Figure object at 0x000000002FDFB780>)"
      ]
     },
     "metadata": {},
     "output_type": "display_data"
    },
    {
     "data": {
      "text/plain": [
       "PyObject <matplotlib.colorbar.Colorbar object at 0x000000000943FD30>"
      ]
     },
     "execution_count": 13,
     "metadata": {},
     "output_type": "execute_result"
    }
   ],
   "source": [
    "draw_heat_map(x,t,u_e)"
   ]
  }
 ],
 "metadata": {
  "kernelspec": {
   "display_name": "Julia 0.6.2",
   "language": "julia",
   "name": "julia-0.6"
  },
  "language_info": {
   "file_extension": ".jl",
   "mimetype": "application/julia",
   "name": "julia",
   "version": "0.6.2"
  }
 },
 "nbformat": 4,
 "nbformat_minor": 2
}
