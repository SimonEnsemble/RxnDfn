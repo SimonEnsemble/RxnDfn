{
 "cells": [
  {
   "cell_type": "markdown",
   "metadata": {},
   "source": [
    "In this program we will solve a reaction diffusion equation based on your input. \n",
    "The equation we work with is as follows:"
   ]
  },
  {
   "cell_type": "markdown",
   "metadata": {},
   "source": [
    "# Diffusion equation: \n",
    "\\begin{equation}\n",
    "    u_{i,k+1} - D(\\Delta t)\\frac{u_{i-1,k+1}-2u_{i,k+1}+u_{i+1,k+1}}{2(\\Delta x)^2}\n",
    "    = u_{i,k} + D(\\Delta t)\\frac{u_{i-1,k}-2u_{i,k}+u_{i+1,k}}{2(\\Delta x)^2} + (\\Delta t)f(x_i,t_k,u_{i,k})\n",
    "\\end{equation}"
   ]
  },
  {
   "cell_type": "code",
   "execution_count": 1,
   "metadata": {
    "collapsed": true
   },
   "outputs": [],
   "source": [
    "using Plots"
   ]
  },
  {
   "cell_type": "code",
   "execution_count": 2,
   "metadata": {
    "collapsed": true
   },
   "outputs": [],
   "source": [
    "abstract type BoundaryCondition\n",
    "end\n",
    "\n",
    "type Dirichlet <: BoundaryCondition \n",
    "    ū₀::Float64\n",
    "    ūₗ::Float64\n",
    "end\n",
    "\n",
    "type Neumann <: BoundaryCondition\n",
    "    ∂ū₀::Float64\n",
    "    ∂ūₗ::Float64\n",
    "end \n",
    "\n",
    "type Periodic <: BoundaryCondition \n",
    "end "
   ]
  },
  {
   "cell_type": "code",
   "execution_count": 3,
   "metadata": {
    "collapsed": true
   },
   "outputs": [],
   "source": [
    "type Discretization\n",
    "    Nₓ::Int64\n",
    "    Δx::Float64\n",
    "    Nₜ::Int64\n",
    "    Δt::Float64\n",
    "end \n",
    "\n",
    "type SpaceTime\n",
    "    L::Float64 #spacial extent \n",
    "    tf::Float64 #time span of simulation \n",
    "end"
   ]
  },
  {
   "cell_type": "code",
   "execution_count": 4,
   "metadata": {},
   "outputs": [
    {
     "data": {
      "text/plain": [
       "nb_spatial_unknowns"
      ]
     },
     "execution_count": 4,
     "metadata": {},
     "output_type": "execute_result"
    }
   ],
   "source": [
    "\"\"\"\n",
    "Determine the number of spatial unknowns at each time step.\n",
    "\"\"\"\n",
    "function nb_spatial_unknowns(discretization::Discretization, bc::BoundaryCondition)\n",
    "    if typeof(bc) == Neumann\n",
    "        return discretization.Nₓ\n",
    "    elseif typeof(bc) == Dirichlet\n",
    "        return discretization.Nₓ - 2\n",
    "    elseif typeof(bc) == Periodic\n",
    "        return discretization.Nₓ - 1\n",
    "    end\n",
    "end"
   ]
  },
  {
   "cell_type": "code",
   "execution_count": 70,
   "metadata": {},
   "outputs": [
    {
     "data": {
      "text/plain": [
       "build_tri_diagonal_matrix"
      ]
     },
     "execution_count": 70,
     "metadata": {},
     "output_type": "execute_result"
    }
   ],
   "source": [
    "\"\"\"\n",
    "Create tridiagonal matrix.\n",
    "\"\"\"\n",
    "function build_tri_diagonal_matrix(discretization::Discretization, λ::Float64, bc::BoundaryCondition)\n",
    "    # determine number of unknowns based on boundary condition\n",
    "    matrix_dim = nb_spatial_unknowns(discretization, bc)\n",
    "    \n",
    "    A = zeros(matrix_dim, matrix_dim)\n",
    "    \n",
    "    for i = 1:matrix_dim\n",
    "        A[i, i] = 1 + 2 * λ\n",
    "    end\n",
    "        \n",
    "    for i = 1:matrix_dim - 1\n",
    "        A[i  , i+1] = -λ\n",
    "        A[i+1, i  ] = -λ\n",
    "    end\n",
    "    \n",
    "    if typeof(bc) == Periodic\n",
    "        A[1, end] = -λ\n",
    "        A[end, 1] = -λ\n",
    "    end\n",
    "        \n",
    "    if typeof(bc) == Neumann\n",
    "        A[1, 2] = -2 * λ\n",
    "        A[end, end - 1] = -2 * λ\n",
    "    end \n",
    "    \n",
    "    return A\n",
    "        \n",
    "end"
   ]
  },
  {
   "cell_type": "code",
   "execution_count": 69,
   "metadata": {
    "scrolled": true
   },
   "outputs": [
    {
     "data": {
      "text/plain": [
       "solve_rxn_diffn_eqn"
      ]
     },
     "execution_count": 69,
     "metadata": {},
     "output_type": "execute_result"
    }
   ],
   "source": [
    "\"\"\"\n",
    "Arguments:\n",
    "* f: reaction term f(x, t, u)\n",
    "* u₀: initial condition u₀(x)\n",
    "* bc::BoundaryCondition: boundary condition\n",
    "* D::Float64: diffusion coefficient\n",
    "* Nₓ::Int: number of spatial discretization points\n",
    "* st::SpaceTime: space-time over which solution to PDE is approximated\n",
    "* sample_time::Float64: stores u every sample_time time steps\n",
    "\"\"\"\n",
    "function solve_rxn_diffn_eqn(f, u₀, bc::BoundaryCondition, D::Float64, Nₓ::Int, st::SpaceTime, sample_time::Float64)\n",
    "    # compute Δx, Nₜ, Δt below.\n",
    "    discretization = Discretization(Nₓ, NaN, 0, NaN)\n",
    "    \n",
    "    # ensure that the boundary condition is consistent with the initial condition\n",
    "    if isa(bc, Dirichlet)\n",
    "        @assert(bc.ū₀ ≈ u₀(0.0), \n",
    "            \"The initial condition is inconsistent with Dirichlet boundary condition.\")\n",
    "        @assert(bc.ūₗ ≈ u₀(st.L), \n",
    "            \"The initial condition is inconsistent with Dirichlet boundary condition.\")\n",
    "    elseif isa(bc, Periodic)\n",
    "        @assert(u₀(0) ≈ u₀(st.L), \n",
    "            \"The initial condition is inconsistent with periodic boundary conditions.\")\n",
    "    elseif isa(bc, Neumann)\n",
    "        #TODO\n",
    "    end\n",
    "  \n",
    "    # discretize space.\n",
    "    x = collect(linspace(0, st.L, discretization.Nₓ)) # includes end points!\n",
    "    discretization.Δx = x[2] - x[1]\n",
    "    @printf(\"%d points in x-discretization. dx = %f\\n\", discretization.Nₓ, discretization.Δx)\n",
    "\n",
    "    # discreteize time.\n",
    "    discretization.Δt = discretization.Δx ^ 2\n",
    "    discretization.Nₜ = ceil(Int, st.tf / discretization.Δt)\n",
    "    @printf(\"%d points in t-discretization. dt = %f\\n\", discretization.Nₜ, discretization.Δt)\n",
    "    \n",
    "    # nondimensional parameter involved in discreteization\n",
    "    λ = (D * discretization.Δt) / (2 * (discretization.Δx) ^ 2)\n",
    "    \n",
    "    # build tri-diagonal matrix\n",
    "    A = build_tri_diagonal_matrix(discretization, λ, bc)\n",
    "    \n",
    "    nb_unknowns = nb_spatial_unknowns(discretization, bc)\n",
    "    \n",
    "    # initialize u at k = 0\n",
    "    # this u is the value of u(x, t) when t = k - 1 over discretized x points.\n",
    "    u = u₀.(x)\n",
    "    \n",
    "    # trim u and x so that i index corresponds to xᵢ and uᵢ,ₖ\n",
    "    if typeof(bc) == Neumann\n",
    "        # all are unknown, no trimming required\n",
    "    elseif typeof(bc) == Dirichlet\n",
    "        u = u[2:end-1]\n",
    "        x = x[2:end-1]\n",
    "    elseif typeof(bc) == Periodic\n",
    "        u = u[1:end-1]\n",
    "        x = x[1:end-1]\n",
    "    end\n",
    "    @assert(length(u) == nb_unknowns)\n",
    "    @assert(length(x) == nb_unknowns)\n",
    " \n",
    "    # initialize right-hand side of matrix eqn. solved at each time step.\n",
    "    rhs = zeros(Float64, nb_unknowns)\n",
    "    \n",
    "    # initialize u_sample and t_sample to be filled below with specific time steps for graphing purposes \n",
    "    num_samples = ceil(Int, st.tf / sample_time) # determines size of u_sample and t_sample\n",
    "    sample_freq = floor(Int, discretization.Nₜ / (num_samples - 1)) # don't count the 0 sample\n",
    "    u_sample = zeros(Float64, nb_unknowns, num_samples) # nb_unknowns = size of u, num_samples, how many u's we will store \n",
    "    t_sample = zeros(Float64, num_samples)\n",
    "    sample_counter = 1 # for if loop below to identify column of u_sample, increments below after u_sample is imput \n",
    " \n",
    "    # take time steps.\n",
    "    for k = 1:discretization.Nₜ\n",
    "       \n",
    "        # time here, inside the loop\n",
    "        t = discretization.Δt * k\n",
    "        \n",
    "        # build right-hand side vector of matrix eqn.\n",
    "        for i = 1:nb_unknowns\n",
    "            # contribution from first order discretization of time derivative\n",
    "            rhs[i] = u[i]\n",
    "            # contribution from reaction term\n",
    "            rhs[i] += f(x[i], t, u[i]) * discretization.Δt\n",
    "            # TODO contribution from advection \n",
    "            # contribution from spatial Laplacian\n",
    "            if (i != 1) && (i != nb_unknowns)\n",
    "                rhs[i] += λ * (u[i - 1] - 2 * u[i] + u[i + 1])\n",
    "            end\n",
    "         end\n",
    "        \n",
    "         # based on boundary condition, handle first and last component of Laplacian.\n",
    "         if typeof(bc) == Neumann\n",
    "         # -4 and 4 come from making \"ghost points\" as described by Gustafson (u₀ and uₙ₊₁ are considered our ghost points)\n",
    "         # ∂ū₀ = (u₂ - u₀)/(2 * Δx) which means u₀ = -2 * Δx * ∂ū₀ + u₂\n",
    "         # substitute u₀ in the right hand side of the diffusion equation at i = 1 to get the equation below for rhs[1] \n",
    "         # by the same logic, use uₙ₊₁ = 2 * Δx * ∂ūₗ + uₙ₋₁ for the right hand side of the diffusion equation at i = end \n",
    "             rhs[1] += λ * (-4.0 * discretization.Δx * bc.∂ū₀ + 2 * u[2] - 2 * u[1])\n",
    "             rhs[end] += λ * (4.0 * discretization.Δx * bc.∂ūₗ + 2 * u[end - 1] - 2 * u[end])\n",
    "         elseif typeof(bc) == Dirichlet\n",
    "             # Simply input the known boundary condition for Dirichlet\n",
    "             rhs[1] += λ * (bc.ū₀ - 2 * u[1] + u[2])\n",
    "             rhs[end] += λ  * (u[end - 1] - 2 * u[end]  + bc.ūₗ)  \n",
    "         elseif typeof(bc) == Periodic\n",
    "             # draw a circle to see.\n",
    "             # u[-1] is actually u[end] by PBCs\n",
    "             rhs[1] += λ * (u[end] - 2 * u[1] + u[2])\n",
    "             # u[end+1] is actually end\n",
    "             rhs[end] += λ * (u[end - 1] - 2 * u[end] + u[1])\n",
    "         end\n",
    "      \n",
    "         # solve for u at next time step (overwrite previous)\n",
    "         u = A \\ rhs\n",
    "      \n",
    "         # Store u and t every so often so we can plot. \n",
    "         if (k == 1) || (k % sample_freq == 0) \n",
    "                u_sample[:, sample_counter] = u\n",
    "                t_sample[sample_counter] = t \n",
    "                sample_counter += 1\n",
    "         end    \n",
    "\n",
    "    end\n",
    " \n",
    "#= This chunk of code was the previous way to make rhs and u... can be deleted when we feel appropriate since reformatted above\n",
    "  \n",
    "    ## Making right hand side to fill in the rest of u ##\n",
    "    if typeof(bc) == Dirichlet\n",
    "        u[1,:] = bc.ū₀\n",
    "        u[end,:] = bc.ūₗ\n",
    "        rhs = zeros(Float64, discretization.Nₓ - 2)\n",
    "        for k = 2:discretization.Nₜ #this is the column of the u array, not the tₖ  \n",
    "            for i = 2:(discretization.Nₓ - 1) \n",
    "                rhs[i-1] = λ * (u[i - 1, k - 1] - 2 * u[i, k - 1] + u[i + 1, k - 1]) + \n",
    "                f(x[i], t[k - 1], u[i, k - 1]) * discretization.Δt + u[i, k - 1] \n",
    "            end\n",
    "        u[2:end-1, k] = A \\ rhs       #Au = rhs\n",
    "        end\n",
    "    end\n",
    "    \n",
    "    if typeof(bc) == Periodic \n",
    "        rhs = zeros(Float64, discretization.Nₓ - 1)\n",
    "         for k = 2:discretization.Nₜ #this is the column of the u array, not the tₖ  \n",
    "            for i = 1:(discretization.Nₓ - 1) \n",
    "                if (i == 1)\n",
    "                    rhs[i] = λ * (u[Nₓ - 1, k - 1] - 2 * u[i, k - 1] + u[i + 1, k - 1]) + f(x[i], t[k - 1], u[i, k - 1]) * discretization.Δt + u[i, k - 1] \n",
    "                else\n",
    "                    rhs[i] = λ * (u[i - 1, k - 1] - 2 * u[i, k - 1] + u[i + 1, k - 1]) + f(x[i], t[k - 1], u[i, k - 1]) * discretization.Δt + u[i, k - 1]\n",
    "                end\n",
    "            end\n",
    "        u[2:end, k] = A \\ rhs       #Au = rhs\n",
    "        end\n",
    "    end\n",
    "     \n",
    "    \n",
    "    if typeof(bc) == Neumann \n",
    "        rhs = zeros(Float64, discretization.Nₓ)\n",
    "        for k = 2:discretization.Nₜ #this is the column of the u array, not the tₖ  \n",
    "            for i = 1:(discretization.Nₓ) \n",
    "                if (i == 1)\n",
    "                    rhs[i] = λ * ((-4 * discretization.Δx * bc.∂ū₀) + 2*u[i + 1, k - 1] - 2 * u[i, k - 1]) + f(x[i], t[k - 1], u[i, k - 1]) * discretization.Δt + u[i, k - 1]\n",
    "                elseif (i == discretization.Nₓ)\n",
    "                    rhs[i] = λ * ((4 * discretization.Δx * bc.∂ūₗ) + 2*u[i - 1, k - 1] - 2 * u[i, k - 1])  + f(x[i], t[k - 1], u[i, k - 1]) * discretization.Δt + u[i, k - 1]\n",
    "                else\n",
    "                    rhs[i] = λ * (u[i - 1] - 2 * u[i] + u[i + 1]) + f(x[i], t, u[i]) * discretization.Δt + u[i, k - 1]\n",
    "                end\n",
    "            end\n",
    "        u[:, k] = A \\ rhs       #Au = rhs\n",
    "        end\n",
    "\n",
    "    end \n",
    "=#\n",
    "        \n",
    "    return t_sample, x, u_sample \n",
    "    \n",
    "end "
   ]
  },
  {
   "cell_type": "markdown",
   "metadata": {
    "slideshow": {
     "slide_type": "fragment"
    }
   },
   "source": [
    "Enter the following: \n",
    "\n",
    "Reaction Term (f(x, t, u))\n",
    "\n",
    "Initial Condition (u₀)\n",
    "\n",
    "Boundary Conditions\n",
    "\n",
    "Diffusion Coefficient (D)\n",
    "\n",
    "Number of Spacial Steps (Nₓ)\n",
    "\n",
    "Space Time\n",
    "\n",
    "Sample Time"
   ]
  },
  {
   "cell_type": "code",
   "execution_count": 77,
   "metadata": {},
   "outputs": [
    {
     "name": "stdout",
     "output_type": "stream",
     "text": [
      "20 points in x-discretization. dx = 0.052632\n",
      "362 points in t-discretization. dt = 0.002770\n"
     ]
    },
    {
     "data": {
      "text/plain": [
       "([0.00277008, 0.110803, 0.221607, 0.33241, 0.443213, 0.554017, 0.66482, 0.775623, 0.886427, 0.99723], [0.0, 0.0526316, 0.105263, 0.157895, 0.210526, 0.263158, 0.315789, 0.368421, 0.421053, 0.473684, 0.526316, 0.578947, 0.631579, 0.684211, 0.736842, 0.789474, 0.842105, 0.894737, 0.947368, 1.0], [0.973762 0.494381 … 2.22076 2.52526; 0.961017 0.492646 … 2.22457 2.52907; … ; -0.0962921 0.959258 … 3.49209 3.79685; 0.0403178 1.10642 … 3.64479 3.94956])"
      ]
     },
     "execution_count": 77,
     "metadata": {},
     "output_type": "execute_result"
    }
   ],
   "source": [
    "#Neumann BC Test\n",
    "g(x::Float64) = x^3\n",
    "\n",
    "function exact_u(x::Float64, t::Float64) \n",
    "    return e^(-π^2 * t) * cos(π * x) + g(x)\n",
    "end\n",
    "\n",
    "f(x::Float64, t::Float64, u::Float64) = -g(x)\n",
    "u₀(x::Float64) = cos(π * x) + g(x)\n",
    "\n",
    "bc = Neumann(0.0, 3.0)\n",
    "D = 1.0\n",
    "Nₓ = 20\n",
    "st = SpaceTime(1.0, 1.0)\n",
    "sample_time = 0.1\n",
    "\n",
    "t, x, u = solve_rxn_diffn_eqn(f, u₀, bc, D, Nₓ, st, sample_time)"
   ]
  },
  {
   "cell_type": "code",
   "execution_count": 65,
   "metadata": {},
   "outputs": [
    {
     "name": "stdout",
     "output_type": "stream",
     "text": [
      "20 points in x-discretization. dx = 0.052632\n",
      "362 points in t-discretization. dt = 0.002770\n"
     ]
    },
    {
     "data": {
      "text/plain": [
       "([0.00277008, 0.110803, 0.221607, 0.33241, 0.443213, 0.554017, 0.66482, 0.775623, 0.886427, 0.99723], [0.0526316, 0.105263, 0.157895, 0.210526, 0.263158, 0.315789, 0.368421, 0.421053, 0.473684, 0.526316, 0.578947, 0.631579, 0.684211, 0.736842, 0.789474, 0.842105, 0.894737, 0.947368], [16.4144 14.7437 … 6.79117 6.07888; 32.381 29.0852 … 13.3971 11.9919; … ; 32.381 29.0852 … 13.3971 11.9919; 16.4144 14.7437 … 6.79117 6.07888])"
      ]
     },
     "execution_count": 65,
     "metadata": {},
     "output_type": "execute_result"
    }
   ],
   "source": [
    "#Dirichlet BC Test\n",
    "function exact_u(x::Float64, t::Float64) \n",
    "        return 100 * exp(-t) * sin(π * x) #exp(-2 * t) * sin(5 * π * x) #Let L = 1\n",
    "end\n",
    "\n",
    "f(x::Float64, t::Float64, u::Float64) = 100 * (D * π^2 - 1.0) * (e ^ (-t)  * sin(π * x))\n",
    "u₀(x::Float64) = 100 * sin(π * x)\n",
    "\n",
    "bc = Dirichlet(0.0, 0.0)\n",
    "D = 1.0\n",
    "Nₓ = 20\n",
    "st = SpaceTime(1.0, 1.0)\n",
    "sample_time = 0.1\n",
    "\n",
    "t, x, u = solve_rxn_diffn_eqn(f, u₀, bc, D, Nₓ, st, sample_time)"
   ]
  },
  {
   "cell_type": "code",
   "execution_count": 51,
   "metadata": {},
   "outputs": [
    {
     "data": {
      "text/plain": [
       "20×10 Array{Float64,2}:\n",
       "  0.973762   0.494381  0.529181  …  1.61304  1.91652  2.22076  2.52526\n",
       "  0.961017   0.492646  0.531129     1.61682  1.92032  2.22457  2.52907\n",
       "  0.923323   0.487593  0.537022     1.62817  1.93172  2.23598  2.54049\n",
       "  0.862366   0.479676  0.547015     1.6471   1.95072  2.25501  2.55953\n",
       "  0.780707   0.469638  0.561363     1.67362  1.97734  2.28167  2.5862 \n",
       "  0.681598   0.458497  0.580415  …  1.70773  2.01158  2.31596  2.6205 \n",
       "  0.568875   0.447518  0.604614     1.74948  2.05349  2.35791  2.66247\n",
       "  0.446869   0.438184  0.634481     1.79891  2.10308  2.40756  2.71214\n",
       "  0.320307   0.432158  0.670608     1.85608  2.16043  2.46496  2.76956\n",
       "  0.194208   0.43124   0.713644     1.92105  2.22559  2.53019  2.83481\n",
       "  0.0737684  0.437322  0.764283  …  1.99393  2.29866  2.60333  2.90797\n",
       " -0.0357563  0.452344  0.823248     2.07484  2.37975  2.68448  2.98915\n",
       " -0.129169   0.478245  0.891281     2.16391  2.469    2.77379  3.07848\n",
       " -0.201452   0.516913  0.969122     2.26131  2.56657  2.87142  3.17612\n",
       " -0.247876   0.570147  1.0575       2.36724  2.67266  2.97755  3.28227\n",
       " -0.264112   0.63961   1.15713   …  2.48193  2.78747  3.09241  3.39715\n",
       " -0.246321   0.726793  1.26866      2.60564  2.91128  3.21625  3.521  \n",
       " -0.191244   0.832988  1.39274      2.73865  3.04437  3.34937  3.65413\n",
       " -0.0962921  0.959258  1.52994      2.88131  3.18708  3.49209  3.79685\n",
       "  0.0403178  1.10642   1.68079      3.03399  3.33977  3.64479  3.94956"
      ]
     },
     "execution_count": 51,
     "metadata": {},
     "output_type": "execute_result"
    }
   ],
   "source": [
    "u"
   ]
  },
  {
   "cell_type": "code",
   "execution_count": 75,
   "metadata": {},
   "outputs": [
    {
     "ename": "LoadError",
     "evalue": "\u001b[91mcould not spawn `ffmpeg -v 0 -i 'C:\\Users\\Rachel\\AppData\\Local\\Temp\\jl_41D3.tmp/%06d.png' -vf palettegen=stats_mode=diff -y 'C:\\Users\\Rachel\\AppData\\Local\\Temp\\jl_41D3.tmp/palette.bmp'`: no such file or directory (ENOENT)\u001b[39m",
     "output_type": "error",
     "traceback": [
      "\u001b[91mcould not spawn `ffmpeg -v 0 -i 'C:\\Users\\Rachel\\AppData\\Local\\Temp\\jl_41D3.tmp/%06d.png' -vf palettegen=stats_mode=diff -y 'C:\\Users\\Rachel\\AppData\\Local\\Temp\\jl_41D3.tmp/palette.bmp'`: no such file or directory (ENOENT)\u001b[39m",
      "",
      "Stacktrace:",
      " [1] \u001b[1m_jl_spawn\u001b[22m\u001b[22m\u001b[1m(\u001b[22m\u001b[22m::String, ::Array{String,1}, ::Ptr{Void}, ::Base.Process, ::RawFD, ::RawFD, ::RawFD\u001b[1m)\u001b[22m\u001b[22m at \u001b[1m.\\process.jl:360\u001b[22m\u001b[22m",
      " [2] \u001b[1m#376\u001b[22m\u001b[22m at \u001b[1m.\\process.jl:512\u001b[22m\u001b[22m [inlined]",
      " [3] \u001b[1msetup_stdio\u001b[22m\u001b[22m\u001b[1m(\u001b[22m\u001b[22m::Base.##376#377{Cmd}, ::Tuple{RawFD,RawFD,RawFD}\u001b[1m)\u001b[22m\u001b[22m at \u001b[1m.\\process.jl:499\u001b[22m\u001b[22m",
      " [4] \u001b[1m#spawn#375\u001b[22m\u001b[22m\u001b[1m(\u001b[22m\u001b[22m::Nullable{Base.ProcessChain}, ::Function, ::Cmd, ::Tuple{RawFD,RawFD,RawFD}\u001b[1m)\u001b[22m\u001b[22m at \u001b[1m.\\process.jl:511\u001b[22m\u001b[22m",
      " [5] \u001b[1mrun\u001b[22m\u001b[22m\u001b[1m(\u001b[22m\u001b[22m::Cmd\u001b[1m)\u001b[22m\u001b[22m at \u001b[1m.\\process.jl:650\u001b[22m\u001b[22m",
      " [6] \u001b[1m#buildanimation#288\u001b[22m\u001b[22m\u001b[1m(\u001b[22m\u001b[22m::Int64, ::Int64, ::Bool, ::Function, ::String, ::String, ::Bool\u001b[1m)\u001b[22m\u001b[22m at \u001b[1mC:\\Users\\Rachel\\Julia\\pkgs-0.6.2.1\\v0.6\\Plots\\src\\animation.jl:81\u001b[22m\u001b[22m",
      " [7] \u001b[1m#gif#285\u001b[22m\u001b[22m\u001b[1m(\u001b[22m\u001b[22m::Array{Any,1}, ::Function, ::Plots.Animation, ::String\u001b[1m)\u001b[22m\u001b[22m at \u001b[1mC:\\Users\\Rachel\\Julia\\pkgs-0.6.2.1\\v0.6\\Plots\\src\\animation.jl:63\u001b[22m\u001b[22m",
      " [8] \u001b[1mgif\u001b[22m\u001b[22m\u001b[1m(\u001b[22m\u001b[22m::Plots.Animation\u001b[1m)\u001b[22m\u001b[22m at \u001b[1mC:\\Users\\Rachel\\Julia\\pkgs-0.6.2.1\\v0.6\\Plots\\src\\animation.jl:63\u001b[22m\u001b[22m",
      " [9] \u001b[1mmacro expansion\u001b[22m\u001b[22m at \u001b[1mC:\\Users\\Rachel\\Julia\\pkgs-0.6.2.1\\v0.6\\Plots\\src\\animation.jl:153\u001b[22m\u001b[22m [inlined]",
      " [10] \u001b[1manonymous\u001b[22m\u001b[22m at \u001b[1m.\\<missing>:?\u001b[22m\u001b[22m",
      " [11] \u001b[1minclude_string\u001b[22m\u001b[22m\u001b[1m(\u001b[22m\u001b[22m::String, ::String\u001b[1m)\u001b[22m\u001b[22m at \u001b[1m.\\loading.jl:522\u001b[22m\u001b[22m"
     ]
    }
   ],
   "source": [
    "# Making gif to compare exact equation and rxn_diffn_equ\n",
    "\n",
    "# Is there a way to use what we already computed in the function? or will we have to return both of these values to do so?\n",
    "Δx = x[2] - x[1]\n",
    "Δt = Δx ^ 2\n",
    "\n",
    "Nₜ = ceil(Int, st.tf / sample_time)\n",
    "\n",
    "@gif for i = 1:Nₜ\n",
    "    scatter(x,u[:,i], ylim=(0,100), label=\"numerical\", xlabel=\"x\", ylabel=\"u\", title=@sprintf(\"t = %.2f\", t[i]))\n",
    "    plot!(x, exact_u.(x,t[i]), label=\"exact\")\n",
    "end "
   ]
  },
  {
   "cell_type": "code",
   "execution_count": 76,
   "metadata": {},
   "outputs": [
    {
     "data": {
      "text/plain": [
       "PyPlot"
      ]
     },
     "execution_count": 76,
     "metadata": {},
     "output_type": "execute_result"
    }
   ],
   "source": [
    "# Use this to make heat maps\n",
    "import PyPlot; const plt = PyPlot"
   ]
  },
  {
   "cell_type": "code",
   "execution_count": 46,
   "metadata": {},
   "outputs": [
    {
     "data": {
      "text/plain": [
       "draw_heat_map (generic function with 1 method)"
      ]
     },
     "execution_count": 46,
     "metadata": {},
     "output_type": "execute_result"
    }
   ],
   "source": [
    "\"\"\"\n",
    "Creates heat map based on x, t, u\n",
    "\"\"\"\n",
    "function draw_heat_map(x, t, u)\n",
    "    Nₜ = length(t)\n",
    "    Nₓ = length(x)\n",
    "    \n",
    "    X = similar(transpose(u))\n",
    "    T = similar(transpose(u))\n",
    "\n",
    "    for i = 1:Nₜ\n",
    "        X[i,:] = x\n",
    "    end\n",
    "\n",
    "    for i = 1:Nₓ\n",
    "        T[:,i] = t\n",
    "    end\n",
    "\n",
    "    plt.figure()\n",
    "    plt.pcolormesh(X,T, transpose(u))\n",
    "    plt.xlabel(\"x\")\n",
    "    plt.ylabel(\"t\")\n",
    "    plt.colorbar(label=\"Concentration of A\")\n",
    "    plt.savefig(\"heatmap.png\")\n",
    "end "
   ]
  },
  {
   "cell_type": "code",
   "execution_count": 68,
   "metadata": {},
   "outputs": [],
   "source": [
    "# Making heat map based off of calulated u\n",
    "draw_heat_map(x, t, u)"
   ]
  },
  {
   "cell_type": "code",
   "execution_count": 66,
   "metadata": {
    "collapsed": true
   },
   "outputs": [],
   "source": [
    "# Making heat map based off of exact u to compare against calculated u heat map\n",
    "Nₜ = length(t)\n",
    "Nₓ = length(x)\n",
    "\n",
    "u_e = zeros(Float64, Nₓ, Nₜ)\n",
    "for i = 1:Nₓ \n",
    "    for j = 1:Nₜ\n",
    "        u_e[i,j] = exact_u(x[i], t[j])\n",
    "    end\n",
    "end\n",
    "\n",
    "draw_heat_map(x, t, u_e)"
   ]
  }
 ],
 "metadata": {
  "kernelspec": {
   "display_name": "Julia 0.6.2",
   "language": "julia",
   "name": "julia-0.6"
  },
  "language_info": {
   "file_extension": ".jl",
   "mimetype": "application/julia",
   "name": "julia",
   "version": "0.6.2"
  }
 },
 "nbformat": 4,
 "nbformat_minor": 2
}
