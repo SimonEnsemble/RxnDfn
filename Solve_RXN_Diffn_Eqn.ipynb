{
 "cells": [
  {
   "cell_type": "markdown",
   "metadata": {},
   "source": [
    "In this program we will solve a reaction diffusion equation based on your input. \n",
    "The equation we work with is as follows:"
   ]
  },
  {
   "cell_type": "markdown",
   "metadata": {},
   "source": [
    "# Diffusion equation: \n",
    "\\begin{equation}\n",
    "    u_{i,k+1} - D(\\Delta t)\\frac{u_{i-1,k+1}-2u_{i,k+1}+u_{i+1,k+1}}{2(\\Delta x)^2}\n",
    "    = u_{i,k} + D(\\Delta t)\\frac{u_{i-1,k}-2u_{i,k}+u_{i+1,k}}{2(\\Delta x)^2} + (\\Delta t)f(x_i,t_k,u_{i,k})\n",
    "\\end{equation}"
   ]
  },
  {
   "cell_type": "markdown",
   "metadata": {},
   "source": [
    "# Diffusion equation: \n",
    "We will eventually add advection, and this will become the equation we work with:\n",
    "\n",
    "\\begin{equation}\n",
    "    u_{i,k+1} - D(\\Delta t)\\frac{u_{i-1,k+1}-2u_{i,k+1}+u_{i+1,k+1}}{2(\\Delta x)^2}\n",
    "    = u_{i,k} + D(\\Delta t)\\frac{u_{i-1,k}-2u_{i,k}+u_{i+1,k}}{2(\\Delta x)^2} + (\\Delta t)f(x_i,t_k,u_{i,k}) - (\\Delta t)(v\\frac{\\partial u}{\\partial x})\n",
    "\\end{equation}"
   ]
  },
  {
   "cell_type": "code",
   "execution_count": 1,
   "metadata": {
    "collapsed": true
   },
   "outputs": [],
   "source": [
    "abstract type BoundaryCondition\n",
    "end\n",
    "\n",
    "type Dirichlet <: BoundaryCondition \n",
    "    ū₀::Float64\n",
    "    ūₗ::Float64\n",
    "end\n",
    "\n",
    "type Neumann <: BoundaryCondition\n",
    "    ∂ū₀::Float64\n",
    "    ∂ūₗ::Float64\n",
    "end \n",
    "\n",
    "type Periodic <: BoundaryCondition \n",
    "end "
   ]
  },
  {
   "cell_type": "code",
   "execution_count": 2,
   "metadata": {
    "collapsed": true
   },
   "outputs": [],
   "source": [
    "type Discretization\n",
    "    Nₓ::Int64\n",
    "    Δx::Float64\n",
    "    Nₜ::Int64\n",
    "    Δt::Float64\n",
    "end \n",
    "\n",
    "type SpaceTime\n",
    "    L::Float64 #spacial extent \n",
    "    tf::Float64 #time span of simulation \n",
    "end"
   ]
  },
  {
   "cell_type": "code",
   "execution_count": 3,
   "metadata": {},
   "outputs": [
    {
     "data": {
      "text/plain": [
       "nb_spatial_unknowns"
      ]
     },
     "execution_count": 3,
     "metadata": {},
     "output_type": "execute_result"
    }
   ],
   "source": [
    "\"\"\"\n",
    "Determine the number of spatial unknowns at each time step.\n",
    "\"\"\"\n",
    "function nb_spatial_unknowns(discretization::Discretization, bc::BoundaryCondition)\n",
    "    if typeof(bc) == Neumann\n",
    "        return discretization.Nₓ\n",
    "    elseif typeof(bc) == Dirichlet\n",
    "        return discretization.Nₓ - 2\n",
    "    elseif typeof(bc) == Periodic\n",
    "        return discretization.Nₓ - 1\n",
    "    end\n",
    "end"
   ]
  },
  {
   "cell_type": "code",
   "execution_count": 4,
   "metadata": {},
   "outputs": [
    {
     "data": {
      "text/plain": [
       "build_tri_diagonal_matrix"
      ]
     },
     "execution_count": 4,
     "metadata": {},
     "output_type": "execute_result"
    }
   ],
   "source": [
    "\"\"\"\n",
    "Create tridiagonal matrix.\n",
    "\"\"\"\n",
    "function build_tri_diagonal_matrix(discretization::Discretization, λ::Float64, bc::BoundaryCondition)\n",
    "    # determine number of unknowns based on boundary condition\n",
    "    matrix_dim = nb_spatial_unknowns(discretization, bc)\n",
    "    \n",
    "    A = zeros(matrix_dim, matrix_dim)\n",
    "    \n",
    "    for i = 1:matrix_dim\n",
    "        A[i, i] = 1 + 2 * λ\n",
    "    end\n",
    "        \n",
    "    for i = 1:matrix_dim - 1\n",
    "        A[i  , i+1] = -λ\n",
    "        A[i+1, i  ] = -λ\n",
    "    end\n",
    "    \n",
    "    if typeof(bc) == Periodic\n",
    "        A[1, end] = -λ\n",
    "        A[end, 1] = -λ\n",
    "    end\n",
    "        \n",
    "    if typeof(bc) == Neumann\n",
    "        A[1, 2] = -2 * λ\n",
    "        A[end, end - 1] = -2 * λ\n",
    "    end \n",
    "    \n",
    "    return A\n",
    "        \n",
    "end"
   ]
  },
  {
   "cell_type": "code",
   "execution_count": 5,
   "metadata": {
    "collapsed": true
   },
   "outputs": [],
   "source": [
    "using Calculus"
   ]
  },
  {
   "cell_type": "code",
   "execution_count": 6,
   "metadata": {
    "scrolled": true
   },
   "outputs": [
    {
     "data": {
      "text/plain": [
       "solve_rxn_diffn_eqn"
      ]
     },
     "execution_count": 6,
     "metadata": {},
     "output_type": "execute_result"
    }
   ],
   "source": [
    "\"\"\"\n",
    "Arguments:\n",
    "* f: reaction term f(x, t, u)\n",
    "* u₀: initial condition u₀(x)\n",
    "* bc::BoundaryCondition: boundary condition\n",
    "* D::Float64: diffusion coefficient\n",
    "* Nₓ::Int: number of spatial discretization points\n",
    "* st::SpaceTime: space-time over which solution to PDE is approximated\n",
    "* sample_time::Float64: stores u every sample_time time steps\n",
    "\"\"\"\n",
    "function solve_rxn_diffn_eqn(f, u₀, bc::BoundaryCondition, D::Float64, Nₓ::Int, st::SpaceTime, sample_time::Float64)\n",
    "    # compute Δx, Nₜ, Δt below.\n",
    "    discretization = Discretization(Nₓ, NaN, 0, NaN)\n",
    "    \n",
    "    # ensure that the boundary condition is consistent with the initial condition\n",
    "    if isa(bc, Dirichlet)\n",
    "        @assert(bc.ū₀ ≈ u₀(0.0), \n",
    "            \"The initial condition is inconsistent with Dirichlet boundary condition.\")\n",
    "        @assert(isapprox(bc.ūₗ, u₀(st.L), atol = 1e-10), \n",
    "            \"The initial condition is inconsistent with Dirichlet boundary condition.\")\n",
    "    elseif isa(bc, Periodic)\n",
    "        @assert(u₀(0.0) ≈ u₀(st.L), \n",
    "            \"The initial condition is inconsistent with Periodic boundary conditions.\")\n",
    "    elseif isa(bc, Neumann)\n",
    "        @assert(isapprox(bc.∂ū₀, derivative(u₀, 0.0), atol = 1e-10), \n",
    "            \"The initial condition is inconsistent with Neumann boundary condition.\")\n",
    "        @assert(isapprox(bc.∂ūₗ, derivative(u₀, st.L), atol = 1e-10),\n",
    "            \"The initial condition is inconsistent with Neumann boundary condition.\")\n",
    "    end\n",
    "  \n",
    "    # discretize space.\n",
    "    x = collect(linspace(0, st.L, discretization.Nₓ)) # includes end points!\n",
    "    discretization.Δx = x[2] - x[1]\n",
    "    @printf(\"%d points in x-discretization. dx = %f\\n\", discretization.Nₓ, discretization.Δx)\n",
    "\n",
    "    # discreteize time.\n",
    "    discretization.Δt = discretization.Δx ^ 2\n",
    "    discretization.Nₜ = ceil(Int, st.tf / discretization.Δt)\n",
    "    @printf(\"%d points in t-discretization. dt = %f\\n\", discretization.Nₜ, discretization.Δt)\n",
    "    \n",
    "    # nondimensional parameter involved in discreteization\n",
    "    λ = (D * discretization.Δt) / (2 * (discretization.Δx) ^ 2)\n",
    "    \n",
    "    # build tri-diagonal matrix\n",
    "    A = build_tri_diagonal_matrix(discretization, λ, bc)\n",
    "    \n",
    "    nb_unknowns = nb_spatial_unknowns(discretization, bc)\n",
    "    \n",
    "    # initialize u at k = 0\n",
    "    # this u is the value of u(x, t) when t = k - 1 over discretized x points.\n",
    "    u = u₀.(x)\n",
    "    \n",
    "    # trim u and x so that i index corresponds to xᵢ and uᵢ,ₖ\n",
    "    if typeof(bc) == Neumann\n",
    "        # all are unknown, no trimming required\n",
    "    elseif typeof(bc) == Dirichlet\n",
    "        u = u[2:end-1]\n",
    "        x = x[2:end-1]\n",
    "    elseif typeof(bc) == Periodic\n",
    "        u = u[1:end-1]\n",
    "        x = x[1:end-1]\n",
    "    end\n",
    "    @assert(length(u) == nb_unknowns)\n",
    "    @assert(length(x) == nb_unknowns)\n",
    " \n",
    "    # initialize right-hand side of matrix eqn. solved at each time step.\n",
    "    rhs = zeros(Float64, nb_unknowns)\n",
    "    \n",
    "    # initialize u_sample and t_sample to be filled below with specific time steps for graphing purposes \n",
    "    num_samples = ceil(Int, st.tf / sample_time) # determines size of u_sample and t_sample\n",
    "    sample_freq = floor(Int, discretization.Nₜ / (num_samples - 1)) # don't count the 0 sample\n",
    "    u_sample = zeros(Float64, nb_unknowns, num_samples) # nb_unknowns = size of u, num_samples, how many u's we will store \n",
    "    t_sample = zeros(Float64, num_samples)\n",
    "    sample_counter = 1 # for if loop below to identify column of u_sample, increments below after u_sample is imput \n",
    " \n",
    "    # take time steps.\n",
    "    for k = 1:discretization.Nₜ\n",
    "      \n",
    "        # time here, inside the loop\n",
    "        t = discretization.Δt * k\n",
    "        \n",
    "        # build right-hand side vector of matrix eqn.\n",
    "        for i = 1:nb_unknowns\n",
    "            # contribution from first order discretization of time derivative\n",
    "            rhs[i] = u[i]\n",
    "            # contribution from reaction term\n",
    "            rhs[i] += f(x[i], t, u[i]) * discretization.Δt\n",
    "            # TODO contribution from advection \n",
    "            # contribution from spatial Laplacian \n",
    "            if (i != 1) && (i != nb_unknowns)\n",
    "                rhs[i] += λ * (u[i - 1] - 2 * u[i] + u[i + 1])\n",
    "            end\n",
    "         end\n",
    "        \n",
    "         # based on boundary condition, handle first and last component of Laplacian.\n",
    "         if typeof(bc) == Neumann\n",
    "         # -4 and 4 come from making \"ghost points\" as described by Gustafson (u₀ and uₙ₊₁ are considered our ghost points)\n",
    "         # ∂ū₀ = (u₂ - u₀)/(2 * Δx) which means u₀ = -2 * Δx * ∂ū₀ + u₂\n",
    "         # substitute u₀ in the right hand side of the diffusion equation at i = 1 to get the equation below for rhs[1] \n",
    "         # by the same logic, use uₙ₊₁ = 2 * Δx * ∂ūₗ + uₙ₋₁ for the right hand side of the diffusion equation at i = end \n",
    "             rhs[1] += λ * (-4.0 * discretization.Δx * bc.∂ū₀ + 2 * u[2] - 2 * u[1])\n",
    "             rhs[end] += λ * (4.0 * discretization.Δx * bc.∂ūₗ + 2 * u[end - 1] - 2 * u[end])\n",
    "         elseif typeof(bc) == Dirichlet\n",
    "             # Simply input the known boundary condition for Dirichlet\n",
    "             rhs[1] += λ * (bc.ū₀ - 2 * u[1] + u[2])\n",
    "             rhs[end] += λ  * (u[end - 1] - 2 * u[end]  + bc.ūₗ)  \n",
    "         elseif typeof(bc) == Periodic\n",
    "             # draw a circle to see.\n",
    "             # u[-1] is actually u[end] by PBCs\n",
    "             rhs[1] += λ * (u[end] - 2 * u[1] + u[2])\n",
    "             # u[end+1] is actually end\n",
    "             rhs[end] += λ * (u[end - 1] - 2 * u[end] + u[1])\n",
    "         end\n",
    "      \n",
    "         # solve for u at next time step (overwrite previous)\n",
    "         u = A \\ rhs\n",
    "      \n",
    "         # Store u and t every so often so we can plot. \n",
    "         if (k == 1) || (k % sample_freq == 0) \n",
    "                u_sample[:, sample_counter] = u\n",
    "                t_sample[sample_counter] = t \n",
    "                sample_counter += 1\n",
    "         end    \n",
    "\n",
    "    end\n",
    "       \n",
    "    return t_sample, x, u_sample \n",
    "    \n",
    "end "
   ]
  },
  {
   "cell_type": "markdown",
   "metadata": {
    "slideshow": {
     "slide_type": "fragment"
    }
   },
   "source": [
    "Enter the following to run solve_rxn_diffn_eqn: \n",
    "\n",
    "Reaction Term (f(x, t, u))\n",
    "\n",
    "Initial Condition (u₀)\n",
    "\n",
    "Boundary Conditions\n",
    "\n",
    "Diffusion Coefficient (D)\n",
    "\n",
    "Number of Spacial Steps (Nₓ)\n",
    "\n",
    "Space Time\n",
    "\n",
    "Sample Time"
   ]
  },
  {
   "cell_type": "code",
   "execution_count": 13,
   "metadata": {},
   "outputs": [
    {
     "name": "stdout",
     "output_type": "stream",
     "text": [
      "20 points in x-discretization. dx = 0.052632\n",
      "362 points in t-discretization. dt = 0.002770\n"
     ]
    },
    {
     "data": {
      "text/plain": [
       "([0.00277008, 0.110803, 0.221607, 0.33241, 0.443213, 0.554017, 0.66482, 0.775623, 0.886427, 0.99723], [0.0, 0.0526316, 0.105263, 0.157895, 0.210526, 0.263158, 0.315789, 0.368421, 0.421053, 0.473684, 0.526316, 0.578947, 0.631579, 0.684211, 0.736842, 0.789474, 0.842105, 0.894737, 0.947368, 1.0], [0.973258 0.336833 … 0.00154663 0.00143931; 0.960009 0.332258 … 0.00154443 0.00143857; … ; -0.109593 0.518158 … 0.848871 0.848977; 0.026742 0.663167 … 0.998453 0.998561])"
      ]
     },
     "execution_count": 13,
     "metadata": {},
     "output_type": "execute_result"
    }
   ],
   "source": [
    "#Neumann BC Test\n",
    "\n",
    "# Reaction term\n",
    "g(x::Float64) = x^3\n",
    "\n",
    "function exact_u(x::Float64, t::Float64, D::Float64) \n",
    "    return e^(-π^2 * t) * cos(π * x) + g(x)\n",
    "end\n",
    "\n",
    "f(x::Float64, t::Float64, u::Float64) = -6 * x\n",
    "u₀(x::Float64) = cos(π * x) + g(x)\n",
    "\n",
    "bc = Neumann(0.0, 3.0)\n",
    "D = 1.0\n",
    "Nₓ = 20\n",
    "st = SpaceTime(1.0, 1.0)\n",
    "sample_time = 0.1\n",
    "\n",
    "t, x, u = solve_rxn_diffn_eqn(f, u₀, bc, D, Nₓ, st, sample_time)"
   ]
  },
  {
   "cell_type": "code",
   "execution_count": 16,
   "metadata": {},
   "outputs": [
    {
     "name": "stdout",
     "output_type": "stream",
     "text": [
      "20 points in x-discretization. dx = 0.052632\n",
      "362 points in t-discretization. dt = 0.002770\n"
     ]
    },
    {
     "data": {
      "text/plain": [
       "([0.00277008, 0.110803, 0.221607, 0.33241, 0.443213, 0.554017, 0.66482, 0.775623, 0.886427, 0.99723], [0.0526316, 0.105263, 0.157895, 0.210526, 0.263158, 0.315789, 0.368421, 0.421053, 0.473684, 0.526316, 0.578947, 0.631579, 0.684211, 0.736842, 0.789474, 0.842105, 0.894737, 0.947368], [16.4144 14.7437 … 6.79117 6.07888; 32.381 29.0852 … 13.3971 11.9919; … ; 32.381 29.0852 … 13.3971 11.9919; 16.4144 14.7437 … 6.79117 6.07888])"
      ]
     },
     "execution_count": 16,
     "metadata": {},
     "output_type": "execute_result"
    }
   ],
   "source": [
    "#Dirichlet BC Test\n",
    "function exact_u(x::Float64, t::Float64, D::Float64) \n",
    "        return 100 * exp(-t) * sin(π * x)\n",
    "end\n",
    "\n",
    "f(x::Float64, t::Float64, u::Float64) = 100 * (D * π^2 - 1.0) * (e ^ (-t)  * sin(π * x))\n",
    "u₀(x::Float64) = 100 * sin(π * x)\n",
    "\n",
    "bc = Dirichlet(0.0, 0.0)\n",
    "D = 1.0\n",
    "Nₓ = 20\n",
    "st = SpaceTime(1.0, 1.0)\n",
    "sample_time = 0.1\n",
    "\n",
    "t, x, u = solve_rxn_diffn_eqn(f, u₀, bc, D, Nₓ, st, sample_time)"
   ]
  },
  {
   "cell_type": "code",
   "execution_count": 7,
   "metadata": {},
   "outputs": [
    {
     "name": "stdout",
     "output_type": "stream",
     "text": [
      "20 points in x-discretization. dx = 0.052632\n",
      "362 points in t-discretization. dt = 0.002770\n"
     ]
    },
    {
     "data": {
      "text/plain": [
       "([0.00277008, 0.110803, 0.221607, 0.33241, 0.443213, 0.554017, 0.66482, 0.775623, 0.886427, 0.99723], [0.0, 0.0526316, 0.105263, 0.157895, 0.210526, 0.263158, 0.315789, 0.368421, 0.421053, 0.473684, 0.526316, 0.578947, 0.631579, 0.684211, 0.736842, 0.789474, 0.842105, 0.894737, 0.947368], [5.99246 5.71522 … 4.13771 3.9512; 6.91628 6.6228 … 4.82038 4.60517; … ; 2.18134 2.08653 … 1.48492 1.41182; 4.3215 4.1354 … 2.98396 2.84666])"
      ]
     },
     "execution_count": 7,
     "metadata": {},
     "output_type": "execute_result"
    }
   ],
   "source": [
    "#Periodic BC Test\n",
    "function exact_u(x::Float64, t::Float64, D::Float64)\n",
    "    return exp(-(2 * π)^2 * D * t) * (4 * sin(2 * π * x) + 6 * cos(2 * π * x)) + x * (x - 1)\n",
    "end\n",
    "\n",
    "D = 0.01\n",
    "\n",
    "f(x::Float64, t::Float64, u::Float64) = -2 * D\n",
    "u₀(x::Float64) = 4 * sin(2 * π * x) + 6 * cos(2 * π * x) + x * (x - 1)\n",
    "\n",
    "bc = Periodic()\n",
    "\n",
    "Nₓ = 20\n",
    "st = SpaceTime(1.0, 1.0)\n",
    "sample_time = 0.1 \n",
    "\n",
    "t, x, u = solve_rxn_diffn_eqn(f, u₀, bc, D, Nₓ, st, sample_time)"
   ]
  },
  {
   "cell_type": "code",
   "execution_count": 31,
   "metadata": {
    "collapsed": true
   },
   "outputs": [],
   "source": [
    "using Plots"
   ]
  },
  {
   "cell_type": "code",
   "execution_count": 37,
   "metadata": {},
   "outputs": [
    {
     "ename": "LoadError",
     "evalue": "\u001b[91mcould not spawn `ffmpeg -v 0 -i 'C:\\Users\\Rachel\\AppData\\Local\\Temp\\jl_B6D4.tmp/%06d.png' -vf palettegen=stats_mode=diff -y 'C:\\Users\\Rachel\\AppData\\Local\\Temp\\jl_B6D4.tmp/palette.bmp'`: no such file or directory (ENOENT)\u001b[39m",
     "output_type": "error",
     "traceback": [
      "\u001b[91mcould not spawn `ffmpeg -v 0 -i 'C:\\Users\\Rachel\\AppData\\Local\\Temp\\jl_B6D4.tmp/%06d.png' -vf palettegen=stats_mode=diff -y 'C:\\Users\\Rachel\\AppData\\Local\\Temp\\jl_B6D4.tmp/palette.bmp'`: no such file or directory (ENOENT)\u001b[39m",
      "",
      "Stacktrace:",
      " [1] \u001b[1m_jl_spawn\u001b[22m\u001b[22m\u001b[1m(\u001b[22m\u001b[22m::String, ::Array{String,1}, ::Ptr{Void}, ::Base.Process, ::RawFD, ::RawFD, ::RawFD\u001b[1m)\u001b[22m\u001b[22m at \u001b[1m.\\process.jl:360\u001b[22m\u001b[22m",
      " [2] \u001b[1m#376\u001b[22m\u001b[22m at \u001b[1m.\\process.jl:512\u001b[22m\u001b[22m [inlined]",
      " [3] \u001b[1msetup_stdio\u001b[22m\u001b[22m\u001b[1m(\u001b[22m\u001b[22m::Base.##376#377{Cmd}, ::Tuple{RawFD,RawFD,RawFD}\u001b[1m)\u001b[22m\u001b[22m at \u001b[1m.\\process.jl:499\u001b[22m\u001b[22m",
      " [4] \u001b[1m#spawn#375\u001b[22m\u001b[22m\u001b[1m(\u001b[22m\u001b[22m::Nullable{Base.ProcessChain}, ::Function, ::Cmd, ::Tuple{RawFD,RawFD,RawFD}\u001b[1m)\u001b[22m\u001b[22m at \u001b[1m.\\process.jl:511\u001b[22m\u001b[22m",
      " [5] \u001b[1mrun\u001b[22m\u001b[22m\u001b[1m(\u001b[22m\u001b[22m::Cmd\u001b[1m)\u001b[22m\u001b[22m at \u001b[1m.\\process.jl:650\u001b[22m\u001b[22m",
      " [6] \u001b[1m#buildanimation#330\u001b[22m\u001b[22m\u001b[1m(\u001b[22m\u001b[22m::Int64, ::Int64, ::Bool, ::Bool, ::Function, ::String, ::String, ::Bool\u001b[1m)\u001b[22m\u001b[22m at \u001b[1mC:\\Users\\Rachel\\Julia\\pkgs-0.6.2.1\\v0.6\\Plots\\src\\animation.jl:82\u001b[22m\u001b[22m",
      " [7] \u001b[1m#gif#327\u001b[22m\u001b[22m\u001b[1m(\u001b[22m\u001b[22m::Array{Any,1}, ::Function, ::Plots.Animation, ::String\u001b[1m)\u001b[22m\u001b[22m at \u001b[1mC:\\Users\\Rachel\\Julia\\pkgs-0.6.2.1\\v0.6\\Plots\\src\\animation.jl:63\u001b[22m\u001b[22m",
      " [8] \u001b[1mgif\u001b[22m\u001b[22m\u001b[1m(\u001b[22m\u001b[22m::Plots.Animation\u001b[1m)\u001b[22m\u001b[22m at \u001b[1mC:\\Users\\Rachel\\Julia\\pkgs-0.6.2.1\\v0.6\\Plots\\src\\animation.jl:63\u001b[22m\u001b[22m",
      " [9] \u001b[1mmacro expansion\u001b[22m\u001b[22m at \u001b[1mC:\\Users\\Rachel\\Julia\\pkgs-0.6.2.1\\v0.6\\Plots\\src\\animation.jl:156\u001b[22m\u001b[22m [inlined]",
      " [10] \u001b[1manonymous\u001b[22m\u001b[22m at \u001b[1m.\\<missing>:?\u001b[22m\u001b[22m",
      " [11] \u001b[1minclude_string\u001b[22m\u001b[22m\u001b[1m(\u001b[22m\u001b[22m::String, ::String\u001b[1m)\u001b[22m\u001b[22m at \u001b[1m.\\loading.jl:522\u001b[22m\u001b[22m"
     ]
    }
   ],
   "source": [
    "# Making gif to compare exact equation and rxn_diffn_equ\n",
    "Nₜ = ceil(Int, st.tf / sample_time)\n",
    "\n",
    "@gif for i = 1:Nₜ\n",
    "    scatter(x,u[:,i], ylim=(1.05*minimum(u), 1.05*maximum(u)), label=\"numerical\", xlabel=\"x\", ylabel=\"u\", title=@sprintf(\"t = %.2f\", t[i]))\n",
    "    plot!(x, exact_u.(x,t[i],D), label=\"exact\")\n",
    "end "
   ]
  },
  {
   "cell_type": "code",
   "execution_count": 8,
   "metadata": {},
   "outputs": [
    {
     "data": {
      "text/plain": [
       "PyPlot"
      ]
     },
     "execution_count": 8,
     "metadata": {},
     "output_type": "execute_result"
    }
   ],
   "source": [
    "# Use this to make heat maps\n",
    "import PyPlot; const plt = PyPlot"
   ]
  },
  {
   "cell_type": "code",
   "execution_count": 9,
   "metadata": {},
   "outputs": [
    {
     "data": {
      "text/plain": [
       "draw_heat_map"
      ]
     },
     "execution_count": 9,
     "metadata": {},
     "output_type": "execute_result"
    }
   ],
   "source": [
    "\"\"\"\n",
    "Creates heat map based on x, t, u\n",
    "\"\"\"\n",
    "function draw_heat_map(x, t, u)\n",
    "    Nₜ = length(t)\n",
    "    Nₓ = length(x)\n",
    "    \n",
    "    X = similar(transpose(u))\n",
    "    T = similar(transpose(u))\n",
    "\n",
    "    for i = 1:Nₜ\n",
    "        X[i,:] = x\n",
    "    end\n",
    "\n",
    "    for i = 1:Nₓ\n",
    "        T[:,i] = t\n",
    "    end\n",
    "\n",
    "    plt.figure()\n",
    "    plt.pcolormesh(X,T, transpose(u))\n",
    "    plt.xlabel(\"x\")\n",
    "    plt.ylabel(\"t\")\n",
    "    plt.colorbar(label=\"Concentration of A\")\n",
    "    plt.savefig(\"heatmap.png\")\n",
    "    if typeof(bc) == Neumann\n",
    "        plt.title(\"Neumann Boundary Conditions\")\n",
    "    elseif typeof(bc) == Dirichlet\n",
    "        plt.title(\"Dirichlet Boundary Conditions\")\n",
    "    elseif typeof(bc) == Periodic\n",
    "        plt.title(\"Periodic Boundary Conditions\")\n",
    "    end\n",
    "    \n",
    "end "
   ]
  },
  {
   "cell_type": "code",
   "execution_count": 17,
   "metadata": {},
   "outputs": [
    {
     "data": {
      "image/png": "[encoded data removed]",
      "text/plain": [
       "PyPlot.Figure(PyObject <matplotlib.figure.Figure object at 0x00000000292AED30>)"
      ]
     },
     "metadata": {},
     "output_type": "display_data"
    },
    {
     "data": {
      "text/plain": [
       "PyObject <matplotlib.text.Text object at 0x0000000029358588>"
      ]
     },
     "execution_count": 17,
     "metadata": {},
     "output_type": "execute_result"
    }
   ],
   "source": [
    "# Making heat map based off of calulated u\n",
    "draw_heat_map(x, t, u)"
   ]
  },
  {
   "cell_type": "code",
   "execution_count": 18,
   "metadata": {},
   "outputs": [],
   "source": [
    "# Making heat map based off of exact u to compare against calculated u heat map\n",
    "Nₜ = length(t)\n",
    "Nₓ = length(x)\n",
    "\n",
    "u_e = zeros(Float64, Nₓ, Nₜ)\n",
    "for i = 1:Nₓ \n",
    "    for j = 1:Nₜ\n",
    "        u_e[i,j] = exact_u(x[i], t[j], D)\n",
    "    end\n",
    "end"
   ]
  },
  {
   "cell_type": "code",
   "execution_count": 19,
   "metadata": {},
   "outputs": [
    {
     "data": {
      "image/png": "[encoded data removed]",
      "text/plain": [
       "PyPlot.Figure(PyObject <matplotlib.figure.Figure object at 0x00000000292A1DA0>)"
      ]
     },
     "metadata": {},
     "output_type": "display_data"
    },
    {
     "data": {
      "text/plain": [
       "PyObject <matplotlib.text.Text object at 0x000000002D1E65C0>"
      ]
     },
     "execution_count": 19,
     "metadata": {},
     "output_type": "execute_result"
    }
   ],
   "source": [
    "draw_heat_map(x, t, u_e)"
   ]
  },
  {
   "cell_type": "code",
   "execution_count": 20,
   "metadata": {},
   "outputs": [
    {
     "data": {
      "text/plain": [
       "18×10 Array{Float64,2}:\n",
       " 16.4144  14.7437  13.2009  11.8175  10.5784  …   7.58692   6.79117   6.07888\n",
       " 32.381   29.0852  26.0416  23.3126  20.8683     14.9669   13.3971   11.9919 \n",
       " 47.4644  42.6334  38.1721  34.1718  30.5889     21.9386   19.6376   17.5779 \n",
       " 61.2531  55.0186  49.2613  44.0989  39.4751     28.3119   25.3424   22.6844 \n",
       " 73.3709  65.9031  59.0067  52.8231  47.2846     33.9129   30.356    27.1721 \n",
       " 83.4874  74.9899  67.1426  60.1065  53.8042  …  38.5889   34.5415   30.9186 \n",
       " 91.3266  82.0312  73.4471  65.7502  58.8562     42.2122   37.7848   33.8217 \n",
       " 96.6746  86.8348  77.7481  69.6005  62.3028     44.6841   39.9974   35.8023 \n",
       " 99.3855  89.2699  79.9283  71.5523  64.0499     45.9372   41.1191   36.8063 \n",
       " 99.3855  89.2699  79.9283  71.5523  64.0499     45.9372   41.1191   36.8063 \n",
       " 96.6746  86.8348  77.7481  69.6005  62.3028  …  44.6841   39.9974   35.8023 \n",
       " 91.3266  82.0312  73.4471  65.7502  58.8562     42.2122   37.7848   33.8217 \n",
       " 83.4874  74.9899  67.1426  60.1065  53.8042     38.5889   34.5415   30.9186 \n",
       " 73.3709  65.9031  59.0067  52.8231  47.2846     33.9129   30.356    27.1721 \n",
       " 61.2531  55.0186  49.2613  44.0989  39.4751     28.3119   25.3424   22.6844 \n",
       " 47.4644  42.6334  38.1721  34.1718  30.5889  …  21.9386   19.6376   17.5779 \n",
       " 32.381   29.0852  26.0416  23.3126  20.8683     14.9669   13.3971   11.9919 \n",
       " 16.4144  14.7437  13.2009  11.8175  10.5784      7.58692   6.79117   6.07888"
      ]
     },
     "execution_count": 20,
     "metadata": {},
     "output_type": "execute_result"
    }
   ],
   "source": [
    "u"
   ]
  },
  {
   "cell_type": "code",
   "execution_count": 21,
   "metadata": {},
   "outputs": [
    {
     "data": {
      "text/plain": [
       "18×10 Array{Float64,2}:\n",
       " 16.4139  14.7331  13.1878  11.8046  10.5665  …   7.57821   6.78337   6.07189\n",
       " 32.3801  29.0643  26.0159  23.2872  20.8447     14.9497   13.3817   11.9782 \n",
       " 47.4631  42.6028  38.1344  34.1346  30.5544     21.9134   19.615    17.5577 \n",
       " 61.2514  54.9791  49.2126  44.0509  39.4306     28.2794   25.3133   22.6583 \n",
       " 73.3689  65.8557  58.9484  52.7656  47.2313     33.874    30.3211   27.1408 \n",
       " 83.4851  74.936   67.0763  60.041   53.7436  …  38.5445   34.5018   30.8831 \n",
       " 91.324   81.9722  73.3745  65.6786  58.7899     42.1637   37.7414   33.7829 \n",
       " 96.6719  86.7725  77.6713  69.5247  62.2326     44.6328   39.9515   35.7612 \n",
       " 99.3828  89.2058  79.8494  71.4744  63.9778     45.8844   41.0718   36.764  \n",
       " 99.3828  89.2058  79.8494  71.4744  63.9778     45.8844   41.0718   36.764  \n",
       " 96.6719  86.7725  77.6713  69.5247  62.2326  …  44.6328   39.9515   35.7612 \n",
       " 91.324   81.9722  73.3745  65.6786  58.7899     42.1637   37.7414   33.7829 \n",
       " 83.4851  74.936   67.0763  60.041   53.7436     38.5445   34.5018   30.8831 \n",
       " 73.3689  65.8557  58.9484  52.7656  47.2313     33.874    30.3211   27.1408 \n",
       " 61.2514  54.9791  49.2126  44.0509  39.4306     28.2794   25.3133   22.6583 \n",
       " 47.4631  42.6028  38.1344  34.1346  30.5544  …  21.9134   19.615    17.5577 \n",
       " 32.3801  29.0643  26.0159  23.2872  20.8447     14.9497   13.3817   11.9782 \n",
       " 16.4139  14.7331  13.1878  11.8046  10.5665      7.57821   6.78337   6.07189"
      ]
     },
     "execution_count": 21,
     "metadata": {},
     "output_type": "execute_result"
    }
   ],
   "source": [
    "u_e"
   ]
  },
  {
   "cell_type": "code",
   "execution_count": 22,
   "metadata": {},
   "outputs": [],
   "source": [
    "#Further shows the calculated u is correct\n",
    "@assert(isapprox(u, u_e, rtol=.001), \"Matrices are not equivalent.\")"
   ]
  },
  {
   "cell_type": "code",
   "execution_count": null,
   "metadata": {
    "collapsed": true
   },
   "outputs": [],
   "source": []
  }
 ],
 "metadata": {
  "kernelspec": {
   "display_name": "Julia 0.6.2",
   "language": "julia",
   "name": "julia-0.6"
  },
  "language_info": {
   "file_extension": ".jl",
   "mimetype": "application/julia",
   "name": "julia",
   "version": "0.6.2"
  }
 },
 "nbformat": 4,
 "nbformat_minor": 2
}
